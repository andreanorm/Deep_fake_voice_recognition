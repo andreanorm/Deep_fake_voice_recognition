{
 "cells": [
  {
   "cell_type": "markdown",
   "id": "1b1d0c09-f596-438a-a8da-f33205a07607",
   "metadata": {},
   "source": [
    "**Importing librosa library**"
   ]
  },
  {
   "cell_type": "code",
   "execution_count": 15,
   "id": "cb107973-b9a1-4553-8036-3238c9b65895",
   "metadata": {},
   "outputs": [],
   "source": [
    "import librosa\n",
    "import os\n",
    "import matplotlib.pyplot as plt\n",
    "import librosa.display\n",
    "import numpy as np\n",
    "\n",
    "import pandas as pd\n",
    "from tqdm.notebook import tqdm\n"
   ]
  },
  {
   "cell_type": "markdown",
   "id": "92778cff-a13d-4bad-9d5a-55c861daf66e",
   "metadata": {},
   "source": [
    "**Loading the audio files**"
   ]
  },
  {
   "cell_type": "code",
   "execution_count": 18,
   "id": "828bf0f1-c496-47a7-bac6-ac1bb005e1dd",
   "metadata": {},
   "outputs": [],
   "source": [
    "# Load an audio file\n",
    "\n",
    "# Get the current working directory\n",
    "current_directory = os.getcwd()\n",
    "\n",
    "# Specify the path to the audio file relative to the current directory\n",
    "#audio_file_path = os.path.join(current_directory, 'Nicole-Documents', 'KAGGLE', 'AUDIO')\n",
    "audio_file_path = os.path.join(current_directory, 'Nicole-Documents', 'DEMONSTRATION', 'DEMONSTRATION')\n",
    "audio_file_path2 = os.path.join(current_directory, 'Nicole-Documents', 'KAGGLE', 'AUDIO','REAL','biden-original.wav')\n",
    "y, sr = librosa.load(audio_file_path2)\n",
    "\n",
    "# Display the waveform\n",
    "#plt.figure(figsize=(12, 4))\n",
    "#librosa.display.waveshow(y, sr=sr)\n",
    "#plt.title('Waveform')\n",
    "#plt.show()"
   ]
  },
  {
   "cell_type": "code",
   "execution_count": null,
   "id": "39726899-517b-4788-980b-0029229a2799",
   "metadata": {},
   "outputs": [],
   "source": []
  },
  {
   "cell_type": "code",
   "execution_count": 3,
   "id": "ce7e9480-e06a-41db-a87f-c776a3269ebf",
   "metadata": {},
   "outputs": [
    {
     "name": "stdout",
     "output_type": "stream",
     "text": [
      "13230066\n"
     ]
    }
   ],
   "source": [
    "print(len(y))"
   ]
  },
  {
   "cell_type": "code",
   "execution_count": 4,
   "id": "27bf845a-1f9e-418d-9167-f9b3a760184c",
   "metadata": {},
   "outputs": [
    {
     "data": {
      "text/plain": [
       "array([ 0.02332861,  0.03871367,  0.02713641, ...,  0.02201173,\n",
       "        0.00891917, -0.00109065], dtype=float32)"
      ]
     },
     "execution_count": 4,
     "metadata": {},
     "output_type": "execute_result"
    }
   ],
   "source": [
    "y"
   ]
  },
  {
   "cell_type": "code",
   "execution_count": 5,
   "id": "f894b195-af13-4e5f-8b4c-9b0062e6d806",
   "metadata": {
    "scrolled": true
   },
   "outputs": [
    {
     "data": {
      "text/plain": [
       "22050"
      ]
     },
     "execution_count": 5,
     "metadata": {},
     "output_type": "execute_result"
    }
   ],
   "source": [
    "sr"
   ]
  },
  {
   "cell_type": "code",
   "execution_count": 6,
   "id": "82213733-dc04-429a-920b-f371e8421222",
   "metadata": {},
   "outputs": [],
   "source": [
    "chroma = librosa.feature.chroma_cqt(y=y,sr=sr)"
   ]
  },
  {
   "cell_type": "code",
   "execution_count": 7,
   "id": "5aa055eb-5814-4c83-90ba-60f808c80812",
   "metadata": {},
   "outputs": [
    {
     "data": {
      "text/plain": [
       "array([[0.37303543, 0.49351314, 0.36058465, ..., 1.        , 1.        ,\n",
       "        0.7891258 ],\n",
       "       [0.46651   , 0.56956625, 0.38559422, ..., 0.48033077, 0.36449018,\n",
       "        0.38136163],\n",
       "       [0.42050812, 0.5437503 , 0.5659621 , ..., 0.12449706, 0.18183646,\n",
       "        0.24776603],\n",
       "       ...,\n",
       "       [0.45227924, 0.5147358 , 0.38905585, ..., 0.2507778 , 0.529811  ,\n",
       "        0.8691794 ],\n",
       "       [0.37522292, 0.41887188, 0.29968226, ..., 0.4005598 , 0.6486622 ,\n",
       "        0.8880082 ],\n",
       "       [0.3451065 , 0.43786275, 0.28772122, ..., 0.5604363 , 0.9982105 ,\n",
       "        1.        ]], dtype=float32)"
      ]
     },
     "execution_count": 7,
     "metadata": {},
     "output_type": "execute_result"
    }
   ],
   "source": [
    "chroma"
   ]
  },
  {
   "cell_type": "code",
   "execution_count": 8,
   "id": "f7cdb65f-6540-495e-bca6-e761e1841b3c",
   "metadata": {},
   "outputs": [
    {
     "data": {
      "text/plain": [
       "12"
      ]
     },
     "execution_count": 8,
     "metadata": {},
     "output_type": "execute_result"
    }
   ],
   "source": [
    "len(chroma)"
   ]
  },
  {
   "cell_type": "code",
   "execution_count": 9,
   "id": "e8978235-a377-4471-863b-2e8c08001f70",
   "metadata": {},
   "outputs": [
    {
     "data": {
      "text/plain": [
       "25840"
      ]
     },
     "execution_count": 9,
     "metadata": {},
     "output_type": "execute_result"
    }
   ],
   "source": [
    "len(chroma[2])"
   ]
  },
  {
   "cell_type": "code",
   "execution_count": null,
   "id": "34c561b4-be5f-4fce-9cd2-53fd0d64703e",
   "metadata": {},
   "outputs": [],
   "source": []
  },
  {
   "cell_type": "code",
   "execution_count": null,
   "id": "7bc3452a-03a0-4972-ba39-18c7235f1afa",
   "metadata": {},
   "outputs": [],
   "source": [
    "\n",
    "            "
   ]
  },
  {
   "cell_type": "code",
   "execution_count": 10,
   "id": "b7a76cc6-18bc-44ad-b392-d62a1eba418e",
   "metadata": {},
   "outputs": [
    {
     "name": "stdout",
     "output_type": "stream",
     "text": [
      "Requirement already satisfied: pysound in /home/nicole/.pyenv/versions/3.10.6/envs/Deep_fake_voice_recognition/lib/python3.10/site-packages (0.2)\n"
     ]
    }
   ],
   "source": [
    "!pip install pysound"
   ]
  },
  {
   "cell_type": "code",
   "execution_count": 22,
   "id": "fe10a8d0-1e7a-4748-9760-92fa3f8e32d7",
   "metadata": {
    "scrolled": true
   },
   "outputs": [
    {
     "name": "stdout",
     "output_type": "stream",
     "text": [
      "Processing NEW_FAKE files...\n"
     ]
    },
    {
     "data": {
      "application/vnd.jupyter.widget-view+json": {
       "model_id": "8fa77877737841e79d3c5c3b911cc0f7",
       "version_major": 2,
       "version_minor": 0
      },
      "text/plain": [
       "NEW_FAKE Files Progress:   0%|          | 0/1 [00:00<?, ?it/s]"
      ]
     },
     "metadata": {},
     "output_type": "display_data"
    }
   ],
   "source": [
    "###\n",
    "\"\"\"\n",
    "THIS CODE GENERATES A MODIFIED VERSION OF THE ORIGINAL CSV DATASET THAT\n",
    "INCLUDES A COLUMN FOR 'original_sample' WHICH LISTS THE AUDIO SAMPLE\n",
    "THAT THE 1 SECOND SEGMENT ORIGINATES FROM\n",
    "\"\"\"\n",
    "###\n",
    "\n",
    "# Function to extract features from an audio file\n",
    "def extract_features(file_path, segment_length, file_name):\n",
    "    try:\n",
    "        # Load the audio file\n",
    "        y, sr = librosa.load(file_path)\n",
    "        # Calculate the number of segments based on the segment length and audio length\n",
    "        num_segments = int(np.ceil(len(y) / float(segment_length * sr)))\n",
    "\n",
    "        # Initialize a list to store the features for this file\n",
    "        features = []\n",
    "\n",
    "        # Extract features for each segment\n",
    "        for i in range(num_segments):\n",
    "            # Calculate start and end frame for the current segment\n",
    "            start_frame = i * segment_length * sr\n",
    "            end_frame = min(len(y), (i + 1) * segment_length * sr)\n",
    "            \n",
    "            # Extract audio for this segment\n",
    "            y_segment = y[start_frame:end_frame]\n",
    "\n",
    "            # Extract features\n",
    "            chroma_stft = np.mean(librosa.feature.chroma_stft(y=y_segment, sr=sr,n_fft=2048, hop_length=512))\n",
    "            rms = np.mean(librosa.feature.rms(y=y_segment))\n",
    "            spec_cent = np.mean(librosa.feature.spectral_centroid(y=y_segment, sr=sr))\n",
    "            spec_bw = np.mean(librosa.feature.spectral_bandwidth(y=y_segment, sr=sr))\n",
    "            rolloff = np.mean(librosa.feature.spectral_rolloff(y=y_segment, sr=sr))\n",
    "            zcr = np.mean(librosa.feature.zero_crossing_rate(y_segment))\n",
    "            mfccs = librosa.feature.mfcc(y=y_segment, sr=sr)\n",
    "            mfccs_mean = np.mean(mfccs, axis=1)\n",
    "            \n",
    "            # Append the extracted features to the list\n",
    "            features.append([chroma_stft, rms, spec_cent, spec_bw, rolloff, zcr, *mfccs_mean, file_name])\n",
    "\n",
    "        return features\n",
    "    except Exception as e:\n",
    "        print(f\"Error processing {file_path}: {e}\")\n",
    "        return None\n",
    "\n",
    "# Function to create the dataset\n",
    "def create_dataset(audio_dir, segment_length):\n",
    "    labels = ['NEW_FAKE']\n",
    "    feature_list = []\n",
    "\n",
    "    # Iterate over all files in the audio_dir\n",
    "    for label in labels:\n",
    "        print(f'Processing {label} files...')\n",
    "        files = os.listdir(os.path.join(audio_dir, label))\n",
    "        # Wrap the files iterable with tqdm to show the progress bar\n",
    "        for file in tqdm(files, desc=f\"{label} Files Progress\"):\n",
    "            file_path = os.path.join(audio_dir, label, file)\n",
    "            # Extract the file name without the extension\n",
    "            file_name = os.path.splitext(file)[0]\n",
    "            # Extract features for the current file\n",
    "            file_features = extract_features(file_path, segment_length, file_name)\n",
    "            if file_features:\n",
    "                # Append features of all segments along with the label to the dataset\n",
    "                for segment_features in file_features:\n",
    "                    feature_list.append(segment_features + [label])\n",
    "                    \n",
    "    # Create a DataFrame with the dataset\n",
    "    df = pd.DataFrame(feature_list, columns=['chroma_stft', 'rms', 'spectral_centroid', 'spectral_bandwidth', 'rolloff', 'zero_crossing_rate', 'mfcc1', 'mfcc2', 'mfcc3', 'mfcc4', 'mfcc5', 'mfcc6', 'mfcc7', 'mfcc8', 'mfcc9', 'mfcc10', 'mfcc11', 'mfcc12', 'mfcc13', 'mfcc14', 'mfcc15', 'mfcc16', 'mfcc17', 'mfcc18', 'mfcc19', 'mfcc20', 'origin_sample', 'LABEL'])\n",
    "    \n",
    "    return df\n",
    "\n",
    "# Directory where the 'FAKE' and 'REAL' folders are located\n",
    "audio_dir = audio_file_path\n",
    "\n",
    "# Length of the audio segments in seconds\n",
    "segment_length = 1  # for example, 5 seconds\n",
    "\n",
    "# Create the dataset\n",
    "dataset = create_dataset(audio_dir, segment_length)\n",
    "\n",
    "# Save the dataset to a CSV file\n",
    "#csv_output_path = \n",
    "#dataset.to_csv(csv_output_path, index=False)\n",
    "\n",
    "#print(f'Dataset created and saved to {csv_output_path}')"
   ]
  },
  {
   "cell_type": "code",
   "execution_count": 12,
   "id": "db2a845e-8c9c-4cb8-a1c2-7bec7306a36e",
   "metadata": {},
   "outputs": [
    {
     "data": {
      "text/plain": [
       "6615033.0"
      ]
     },
     "execution_count": 12,
     "metadata": {},
     "output_type": "execute_result"
    }
   ],
   "source": [
    "len(y)/2"
   ]
  },
  {
   "cell_type": "code",
   "execution_count": 23,
   "id": "5b4c32bd-68ae-42c3-9d43-6ea1cb2600ee",
   "metadata": {},
   "outputs": [
    {
     "name": "stdout",
     "output_type": "stream",
     "text": [
      "Dataset created and saved to audio_features_biden_AI.csv\n"
     ]
    }
   ],
   "source": [
    "csv_output_path = 'audio_features_biden_AI.csv'\n",
    "dataset.to_csv(csv_output_path, index=False)\n",
    "\n",
    "print(f'Dataset created and saved to {csv_output_path}')"
   ]
  },
  {
   "cell_type": "code",
   "execution_count": 24,
   "id": "5ecdf106-2c4a-4769-93f2-b6dbea6730bc",
   "metadata": {},
   "outputs": [
    {
     "name": "stdout",
     "output_type": "stream",
     "text": [
      "LABEL\n",
      "NEW_FAKE    80\n",
      "Name: count, dtype: int64\n"
     ]
    }
   ],
   "source": [
    "# Count the occurrences of each label\n",
    "label_counts = dataset['LABEL'].value_counts()\n",
    "\n",
    "# Print the counts\n",
    "print(label_counts)"
   ]
  }
 ],
 "metadata": {
  "kernelspec": {
   "display_name": "Python 3 (ipykernel)",
   "language": "python",
   "name": "python3"
  },
  "language_info": {
   "codemirror_mode": {
    "name": "ipython",
    "version": 3
   },
   "file_extension": ".py",
   "mimetype": "text/x-python",
   "name": "python",
   "nbconvert_exporter": "python",
   "pygments_lexer": "ipython3",
   "version": "3.10.6"
  }
 },
 "nbformat": 4,
 "nbformat_minor": 5
}
