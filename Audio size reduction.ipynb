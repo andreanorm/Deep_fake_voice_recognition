{
 "cells": [
  {
   "cell_type": "code",
   "execution_count": 7,
   "id": "50faa2fb-e34c-4ecf-93a8-f276def84f41",
   "metadata": {},
   "outputs": [],
   "source": [
    "import librosa\n",
    "import soundfile as sf\n",
    "import os\n",
    "# Load the audio file\n",
    "\n",
    "# Define the path to your CSV file\n",
    "current_directory= os.getcwd()\n",
    "current_directory\n",
    "filename = os.path.join(current_directory, 'Nicole-Documents','DEMONSTRATION','DEMONSTRATION','Joe Biden AI voice Speech.wav')\n",
    "\n",
    "\n",
    "#filename = 'raw_data/archive/KAGGLE/AUDIO/Ryan Gosling interview.wav'\n",
    "y, sr = librosa.load(filename, sr=None)\n",
    "# Define start and end times\n",
    "start_sec = 34  # 2 minutes\n",
    "end_sec = start_sec + 1.32*60  # 4 seconds after the start\n",
    "# Convert times to samples\n",
    "start_sample = int(start_sec * sr)\n",
    "end_sample = int(end_sec * sr)\n",
    "# Extract the segment\n",
    "segment = y[start_sample:end_sample]\n",
    "# Save the segment\n",
    "out_filename = 'extracted_segment_biden_AI.wav'\n",
    "sf.write(out_filename, segment, sr)"
   ]
  }
 ],
 "metadata": {
  "kernelspec": {
   "display_name": "Python 3 (ipykernel)",
   "language": "python",
   "name": "python3"
  },
  "language_info": {
   "codemirror_mode": {
    "name": "ipython",
    "version": 3
   },
   "file_extension": ".py",
   "mimetype": "text/x-python",
   "name": "python",
   "nbconvert_exporter": "python",
   "pygments_lexer": "ipython3",
   "version": "3.10.6"
  }
 },
 "nbformat": 4,
 "nbformat_minor": 5
}
