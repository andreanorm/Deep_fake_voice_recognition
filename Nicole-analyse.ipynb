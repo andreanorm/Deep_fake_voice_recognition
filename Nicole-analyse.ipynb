{
 "cells": [
  {
   "cell_type": "markdown",
   "id": "1b1d0c09-f596-438a-a8da-f33205a07607",
   "metadata": {},
   "source": [
    "I will try to process audios"
   ]
  },
  {
   "cell_type": "code",
   "execution_count": null,
   "id": "cb107973-b9a1-4553-8036-3238c9b65895",
   "metadata": {},
   "outputs": [],
   "source": []
  }
 ],
 "metadata": {
  "kernelspec": {
   "display_name": "Python 3 (ipykernel)",
   "language": "python",
   "name": "python3"
  },
  "language_info": {
   "codemirror_mode": {
    "name": "ipython",
    "version": 3
   },
   "file_extension": ".py",
   "mimetype": "text/x-python",
   "name": "python",
   "nbconvert_exporter": "python",
   "pygments_lexer": "ipython3",
   "version": "3.10.6"
  }
 },
 "nbformat": 4,
 "nbformat_minor": 5
}
