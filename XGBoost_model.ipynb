{
 "cells": [
  {
   "cell_type": "markdown",
   "id": "ba260a9b-7d7c-46a0-be3f-6cb9e1a0d352",
   "metadata": {},
   "source": [
    "Extreme Gradient Boosting (XGBoost)"
   ]
  },
  {
   "cell_type": "code",
   "execution_count": 2,
   "id": "766619d2-2819-4e8f-b5ed-f024fa8dd82d",
   "metadata": {},
   "outputs": [
    {
     "name": "stdout",
     "output_type": "stream",
     "text": [
      "Collecting xgboost\n",
      "  Downloading xgboost-2.0.2-py3-none-macosx_12_0_arm64.whl (1.9 MB)\n",
      "\u001b[2K     \u001b[90m━━━━━━━━━━━━━━━━━━━━━━━━━━━━━━━━━━━━━━━━\u001b[0m \u001b[32m1.9/1.9 MB\u001b[0m \u001b[31m12.3 MB/s\u001b[0m eta \u001b[36m0:00:00\u001b[0ma \u001b[36m0:00:01\u001b[0m\n",
      "\u001b[?25hRequirement already satisfied: numpy in /Users/andimand/.pyenv/versions/3.10.6/envs/Deep_fake_voice_recognition/lib/python3.10/site-packages (from xgboost) (1.26.2)\n",
      "Requirement already satisfied: scipy in /Users/andimand/.pyenv/versions/3.10.6/envs/Deep_fake_voice_recognition/lib/python3.10/site-packages (from xgboost) (1.11.4)\n",
      "Installing collected packages: xgboost\n",
      "Successfully installed xgboost-2.0.2\n",
      "\n",
      "\u001b[1m[\u001b[0m\u001b[34;49mnotice\u001b[0m\u001b[1;39;49m]\u001b[0m\u001b[39;49m A new release of pip available: \u001b[0m\u001b[31;49m22.2.1\u001b[0m\u001b[39;49m -> \u001b[0m\u001b[32;49m23.3.1\u001b[0m\n",
      "\u001b[1m[\u001b[0m\u001b[34;49mnotice\u001b[0m\u001b[1;39;49m]\u001b[0m\u001b[39;49m To update, run: \u001b[0m\u001b[32;49mpython -m pip install --upgrade pip\u001b[0m\n",
      "Note: you may need to restart the kernel to use updated packages.\n"
     ]
    }
   ],
   "source": [
    "pip install xgboost"
   ]
  },
  {
   "cell_type": "code",
   "execution_count": 94,
   "id": "05fe627c-feb6-41f3-91ba-c12660f0faf7",
   "metadata": {},
   "outputs": [],
   "source": [
    "from sklearn.model_selection import train_test_split\n",
    "import pandas as pd\n",
    "import numpy as np\n",
    "import matplotlib.pyplot as plt\n",
    "from xgboost import XGBClassifier\n",
    "from sklearn.metrics import mean_squared_error\n",
    "from sklearn.metrics import accuracy_score\n",
    "from sklearn.model_selection import cross_validate\n",
    "from sklearn.model_selection import RandomizedSearchCV\n",
    "from sklearn.metrics import accuracy_score, precision_score, recall_score, f1_score\n",
    "from scipy.stats import randint, uniform, loguniform\n",
    "from sklearn.model_selection import GridSearchCV"
   ]
  },
  {
   "cell_type": "code",
   "execution_count": 43,
   "id": "941874dc-a6db-4c85-9256-535e830ca170",
   "metadata": {},
   "outputs": [
    {
     "data": {
      "text/html": [
       "<div>\n",
       "<style scoped>\n",
       "    .dataframe tbody tr th:only-of-type {\n",
       "        vertical-align: middle;\n",
       "    }\n",
       "\n",
       "    .dataframe tbody tr th {\n",
       "        vertical-align: top;\n",
       "    }\n",
       "\n",
       "    .dataframe thead th {\n",
       "        text-align: right;\n",
       "    }\n",
       "</style>\n",
       "<table border=\"1\" class=\"dataframe\">\n",
       "  <thead>\n",
       "    <tr style=\"text-align: right;\">\n",
       "      <th></th>\n",
       "      <th>chroma_stft</th>\n",
       "      <th>rms</th>\n",
       "      <th>spectral_centroid</th>\n",
       "      <th>spectral_bandwidth</th>\n",
       "      <th>rolloff</th>\n",
       "      <th>zero_crossing_rate</th>\n",
       "      <th>mfcc1</th>\n",
       "      <th>mfcc2</th>\n",
       "      <th>mfcc3</th>\n",
       "      <th>mfcc4</th>\n",
       "      <th>...</th>\n",
       "      <th>mfcc11</th>\n",
       "      <th>mfcc12</th>\n",
       "      <th>mfcc13</th>\n",
       "      <th>mfcc14</th>\n",
       "      <th>mfcc15</th>\n",
       "      <th>mfcc16</th>\n",
       "      <th>mfcc17</th>\n",
       "      <th>mfcc18</th>\n",
       "      <th>mfcc19</th>\n",
       "      <th>mfcc20</th>\n",
       "    </tr>\n",
       "  </thead>\n",
       "  <tbody>\n",
       "    <tr>\n",
       "      <th>0</th>\n",
       "      <td>0.338055</td>\n",
       "      <td>0.027948</td>\n",
       "      <td>2842.948867</td>\n",
       "      <td>4322.916759</td>\n",
       "      <td>6570.586186</td>\n",
       "      <td>0.041050</td>\n",
       "      <td>-462.169586</td>\n",
       "      <td>90.311272</td>\n",
       "      <td>19.073769</td>\n",
       "      <td>24.046888</td>\n",
       "      <td>...</td>\n",
       "      <td>-14.181895</td>\n",
       "      <td>-6.686564</td>\n",
       "      <td>0.902086</td>\n",
       "      <td>-7.251551</td>\n",
       "      <td>-1.198342</td>\n",
       "      <td>4.747403</td>\n",
       "      <td>-4.986279</td>\n",
       "      <td>0.953935</td>\n",
       "      <td>-5.013138</td>\n",
       "      <td>-6.779060</td>\n",
       "    </tr>\n",
       "    <tr>\n",
       "      <th>1</th>\n",
       "      <td>0.443766</td>\n",
       "      <td>0.037838</td>\n",
       "      <td>2336.129597</td>\n",
       "      <td>3445.777044</td>\n",
       "      <td>3764.949874</td>\n",
       "      <td>0.047730</td>\n",
       "      <td>-409.413422</td>\n",
       "      <td>120.348808</td>\n",
       "      <td>-7.161531</td>\n",
       "      <td>5.114784</td>\n",
       "      <td>...</td>\n",
       "      <td>0.372541</td>\n",
       "      <td>-2.131157</td>\n",
       "      <td>-6.876417</td>\n",
       "      <td>-1.359395</td>\n",
       "      <td>0.326401</td>\n",
       "      <td>-5.420016</td>\n",
       "      <td>-2.109968</td>\n",
       "      <td>-1.757634</td>\n",
       "      <td>-9.537907</td>\n",
       "      <td>-8.494421</td>\n",
       "    </tr>\n",
       "    <tr>\n",
       "      <th>2</th>\n",
       "      <td>0.302528</td>\n",
       "      <td>0.056578</td>\n",
       "      <td>2692.988386</td>\n",
       "      <td>2861.133180</td>\n",
       "      <td>4716.610271</td>\n",
       "      <td>0.080342</td>\n",
       "      <td>-318.996033</td>\n",
       "      <td>120.490273</td>\n",
       "      <td>-24.625771</td>\n",
       "      <td>23.891073</td>\n",
       "      <td>...</td>\n",
       "      <td>-3.099179</td>\n",
       "      <td>-5.853725</td>\n",
       "      <td>-3.724773</td>\n",
       "      <td>-6.627182</td>\n",
       "      <td>-5.117002</td>\n",
       "      <td>-6.072106</td>\n",
       "      <td>-0.994653</td>\n",
       "      <td>-1.617120</td>\n",
       "      <td>-3.922354</td>\n",
       "      <td>-7.033001</td>\n",
       "    </tr>\n",
       "    <tr>\n",
       "      <th>3</th>\n",
       "      <td>0.319933</td>\n",
       "      <td>0.031504</td>\n",
       "      <td>2241.665382</td>\n",
       "      <td>3503.766175</td>\n",
       "      <td>3798.641521</td>\n",
       "      <td>0.047180</td>\n",
       "      <td>-404.636749</td>\n",
       "      <td>136.320908</td>\n",
       "      <td>2.308172</td>\n",
       "      <td>-3.907071</td>\n",
       "      <td>...</td>\n",
       "      <td>1.513633</td>\n",
       "      <td>-1.898315</td>\n",
       "      <td>-2.046493</td>\n",
       "      <td>-7.176277</td>\n",
       "      <td>-3.293508</td>\n",
       "      <td>4.209121</td>\n",
       "      <td>0.121835</td>\n",
       "      <td>-5.407063</td>\n",
       "      <td>-3.654926</td>\n",
       "      <td>-3.274857</td>\n",
       "    </tr>\n",
       "    <tr>\n",
       "      <th>4</th>\n",
       "      <td>0.420055</td>\n",
       "      <td>0.016158</td>\n",
       "      <td>2526.069123</td>\n",
       "      <td>3102.659519</td>\n",
       "      <td>5025.077899</td>\n",
       "      <td>0.051905</td>\n",
       "      <td>-410.497925</td>\n",
       "      <td>152.731400</td>\n",
       "      <td>-18.266771</td>\n",
       "      <td>51.993462</td>\n",
       "      <td>...</td>\n",
       "      <td>11.086248</td>\n",
       "      <td>-1.952340</td>\n",
       "      <td>0.810868</td>\n",
       "      <td>6.238493</td>\n",
       "      <td>6.555839</td>\n",
       "      <td>7.535542</td>\n",
       "      <td>2.849219</td>\n",
       "      <td>2.616843</td>\n",
       "      <td>-1.793357</td>\n",
       "      <td>-5.060998</td>\n",
       "    </tr>\n",
       "    <tr>\n",
       "      <th>...</th>\n",
       "      <td>...</td>\n",
       "      <td>...</td>\n",
       "      <td>...</td>\n",
       "      <td>...</td>\n",
       "      <td>...</td>\n",
       "      <td>...</td>\n",
       "      <td>...</td>\n",
       "      <td>...</td>\n",
       "      <td>...</td>\n",
       "      <td>...</td>\n",
       "      <td>...</td>\n",
       "      <td>...</td>\n",
       "      <td>...</td>\n",
       "      <td>...</td>\n",
       "      <td>...</td>\n",
       "      <td>...</td>\n",
       "      <td>...</td>\n",
       "      <td>...</td>\n",
       "      <td>...</td>\n",
       "      <td>...</td>\n",
       "      <td>...</td>\n",
       "    </tr>\n",
       "    <tr>\n",
       "      <th>11773</th>\n",
       "      <td>0.435426</td>\n",
       "      <td>0.025303</td>\n",
       "      <td>2772.575031</td>\n",
       "      <td>2728.757601</td>\n",
       "      <td>4998.670213</td>\n",
       "      <td>0.074323</td>\n",
       "      <td>-342.309753</td>\n",
       "      <td>144.490418</td>\n",
       "      <td>-79.272942</td>\n",
       "      <td>8.890874</td>\n",
       "      <td>...</td>\n",
       "      <td>-2.950688</td>\n",
       "      <td>-17.982819</td>\n",
       "      <td>-7.831161</td>\n",
       "      <td>-1.127167</td>\n",
       "      <td>-7.669674</td>\n",
       "      <td>-0.653850</td>\n",
       "      <td>-8.037575</td>\n",
       "      <td>-2.671002</td>\n",
       "      <td>-4.483765</td>\n",
       "      <td>-3.355975</td>\n",
       "    </tr>\n",
       "    <tr>\n",
       "      <th>11774</th>\n",
       "      <td>0.454611</td>\n",
       "      <td>0.070578</td>\n",
       "      <td>1029.274601</td>\n",
       "      <td>1519.231563</td>\n",
       "      <td>1922.927486</td>\n",
       "      <td>0.026553</td>\n",
       "      <td>-332.230408</td>\n",
       "      <td>202.603012</td>\n",
       "      <td>-0.181929</td>\n",
       "      <td>-2.146542</td>\n",
       "      <td>...</td>\n",
       "      <td>-2.910435</td>\n",
       "      <td>-2.018668</td>\n",
       "      <td>-2.705635</td>\n",
       "      <td>-1.589172</td>\n",
       "      <td>-2.938737</td>\n",
       "      <td>-0.972690</td>\n",
       "      <td>-1.706672</td>\n",
       "      <td>-2.796168</td>\n",
       "      <td>2.171270</td>\n",
       "      <td>-1.660128</td>\n",
       "    </tr>\n",
       "    <tr>\n",
       "      <th>11775</th>\n",
       "      <td>0.374432</td>\n",
       "      <td>0.019063</td>\n",
       "      <td>4063.645317</td>\n",
       "      <td>3558.261357</td>\n",
       "      <td>7299.133512</td>\n",
       "      <td>0.110278</td>\n",
       "      <td>-372.149109</td>\n",
       "      <td>92.670235</td>\n",
       "      <td>-29.082432</td>\n",
       "      <td>59.736637</td>\n",
       "      <td>...</td>\n",
       "      <td>-17.552000</td>\n",
       "      <td>-6.628118</td>\n",
       "      <td>-3.827499</td>\n",
       "      <td>-7.287946</td>\n",
       "      <td>-2.899543</td>\n",
       "      <td>-11.508186</td>\n",
       "      <td>-1.296590</td>\n",
       "      <td>-14.325416</td>\n",
       "      <td>-4.405540</td>\n",
       "      <td>-15.869982</td>\n",
       "    </tr>\n",
       "    <tr>\n",
       "      <th>11776</th>\n",
       "      <td>0.410885</td>\n",
       "      <td>0.090499</td>\n",
       "      <td>1124.655596</td>\n",
       "      <td>1553.651133</td>\n",
       "      <td>2065.942806</td>\n",
       "      <td>0.031761</td>\n",
       "      <td>-328.062805</td>\n",
       "      <td>193.557526</td>\n",
       "      <td>6.779151</td>\n",
       "      <td>-1.304731</td>\n",
       "      <td>...</td>\n",
       "      <td>-7.348275</td>\n",
       "      <td>-5.437202</td>\n",
       "      <td>-4.252508</td>\n",
       "      <td>-1.258683</td>\n",
       "      <td>-2.107233</td>\n",
       "      <td>-1.018154</td>\n",
       "      <td>-2.716950</td>\n",
       "      <td>-3.681598</td>\n",
       "      <td>3.811063</td>\n",
       "      <td>3.948419</td>\n",
       "    </tr>\n",
       "    <tr>\n",
       "      <th>11777</th>\n",
       "      <td>0.570581</td>\n",
       "      <td>0.033022</td>\n",
       "      <td>2275.915286</td>\n",
       "      <td>3566.472303</td>\n",
       "      <td>4054.590126</td>\n",
       "      <td>0.052983</td>\n",
       "      <td>-398.812103</td>\n",
       "      <td>129.081482</td>\n",
       "      <td>3.654665</td>\n",
       "      <td>18.412062</td>\n",
       "      <td>...</td>\n",
       "      <td>4.769826</td>\n",
       "      <td>4.484940</td>\n",
       "      <td>3.916474</td>\n",
       "      <td>2.186594</td>\n",
       "      <td>1.218625</td>\n",
       "      <td>3.607651</td>\n",
       "      <td>4.629877</td>\n",
       "      <td>0.414103</td>\n",
       "      <td>5.229393</td>\n",
       "      <td>0.214607</td>\n",
       "    </tr>\n",
       "  </tbody>\n",
       "</table>\n",
       "<p>11778 rows × 26 columns</p>\n",
       "</div>"
      ],
      "text/plain": [
       "       chroma_stft       rms  spectral_centroid  spectral_bandwidth  \\\n",
       "0         0.338055  0.027948        2842.948867         4322.916759   \n",
       "1         0.443766  0.037838        2336.129597         3445.777044   \n",
       "2         0.302528  0.056578        2692.988386         2861.133180   \n",
       "3         0.319933  0.031504        2241.665382         3503.766175   \n",
       "4         0.420055  0.016158        2526.069123         3102.659519   \n",
       "...            ...       ...                ...                 ...   \n",
       "11773     0.435426  0.025303        2772.575031         2728.757601   \n",
       "11774     0.454611  0.070578        1029.274601         1519.231563   \n",
       "11775     0.374432  0.019063        4063.645317         3558.261357   \n",
       "11776     0.410885  0.090499        1124.655596         1553.651133   \n",
       "11777     0.570581  0.033022        2275.915286         3566.472303   \n",
       "\n",
       "           rolloff  zero_crossing_rate       mfcc1       mfcc2      mfcc3  \\\n",
       "0      6570.586186            0.041050 -462.169586   90.311272  19.073769   \n",
       "1      3764.949874            0.047730 -409.413422  120.348808  -7.161531   \n",
       "2      4716.610271            0.080342 -318.996033  120.490273 -24.625771   \n",
       "3      3798.641521            0.047180 -404.636749  136.320908   2.308172   \n",
       "4      5025.077899            0.051905 -410.497925  152.731400 -18.266771   \n",
       "...            ...                 ...         ...         ...        ...   \n",
       "11773  4998.670213            0.074323 -342.309753  144.490418 -79.272942   \n",
       "11774  1922.927486            0.026553 -332.230408  202.603012  -0.181929   \n",
       "11775  7299.133512            0.110278 -372.149109   92.670235 -29.082432   \n",
       "11776  2065.942806            0.031761 -328.062805  193.557526   6.779151   \n",
       "11777  4054.590126            0.052983 -398.812103  129.081482   3.654665   \n",
       "\n",
       "           mfcc4  ...     mfcc11     mfcc12    mfcc13    mfcc14    mfcc15  \\\n",
       "0      24.046888  ... -14.181895  -6.686564  0.902086 -7.251551 -1.198342   \n",
       "1       5.114784  ...   0.372541  -2.131157 -6.876417 -1.359395  0.326401   \n",
       "2      23.891073  ...  -3.099179  -5.853725 -3.724773 -6.627182 -5.117002   \n",
       "3      -3.907071  ...   1.513633  -1.898315 -2.046493 -7.176277 -3.293508   \n",
       "4      51.993462  ...  11.086248  -1.952340  0.810868  6.238493  6.555839   \n",
       "...          ...  ...        ...        ...       ...       ...       ...   \n",
       "11773   8.890874  ...  -2.950688 -17.982819 -7.831161 -1.127167 -7.669674   \n",
       "11774  -2.146542  ...  -2.910435  -2.018668 -2.705635 -1.589172 -2.938737   \n",
       "11775  59.736637  ... -17.552000  -6.628118 -3.827499 -7.287946 -2.899543   \n",
       "11776  -1.304731  ...  -7.348275  -5.437202 -4.252508 -1.258683 -2.107233   \n",
       "11777  18.412062  ...   4.769826   4.484940  3.916474  2.186594  1.218625   \n",
       "\n",
       "          mfcc16    mfcc17     mfcc18    mfcc19     mfcc20  \n",
       "0       4.747403 -4.986279   0.953935 -5.013138  -6.779060  \n",
       "1      -5.420016 -2.109968  -1.757634 -9.537907  -8.494421  \n",
       "2      -6.072106 -0.994653  -1.617120 -3.922354  -7.033001  \n",
       "3       4.209121  0.121835  -5.407063 -3.654926  -3.274857  \n",
       "4       7.535542  2.849219   2.616843 -1.793357  -5.060998  \n",
       "...          ...       ...        ...       ...        ...  \n",
       "11773  -0.653850 -8.037575  -2.671002 -4.483765  -3.355975  \n",
       "11774  -0.972690 -1.706672  -2.796168  2.171270  -1.660128  \n",
       "11775 -11.508186 -1.296590 -14.325416 -4.405540 -15.869982  \n",
       "11776  -1.018154 -2.716950  -3.681598  3.811063   3.948419  \n",
       "11777   3.607651  4.629877   0.414103  5.229393   0.214607  \n",
       "\n",
       "[11778 rows x 26 columns]"
      ]
     },
     "execution_count": 43,
     "metadata": {},
     "output_type": "execute_result"
    }
   ],
   "source": [
    "df = pd.read_csv('raw_data/archive/KAGGLE/DATASET-balanced.csv')\n",
    "\n",
    "y= df[['LABEL']]\n",
    "X= df.drop('LABEL', axis=1)\n",
    "X"
   ]
  },
  {
   "cell_type": "code",
   "execution_count": 46,
   "id": "85effafa-87b5-43ae-8fd9-2861f9bc79dc",
   "metadata": {},
   "outputs": [
    {
     "name": "stderr",
     "output_type": "stream",
     "text": [
      "/Users/andimand/.pyenv/versions/3.10.6/envs/Deep_fake_voice_recognition/lib/python3.10/site-packages/sklearn/preprocessing/_label.py:114: DataConversionWarning: A column-vector y was passed when a 1d array was expected. Please change the shape of y to (n_samples, ), for example using ravel().\n",
      "  y = column_or_1d(y, warn=True)\n"
     ]
    },
    {
     "data": {
      "text/plain": [
       "array([0, 0, 0, ..., 1, 1, 1])"
      ]
     },
     "execution_count": 46,
     "metadata": {},
     "output_type": "execute_result"
    }
   ],
   "source": [
    "from sklearn.preprocessing import LabelEncoder\n",
    "le = LabelEncoder()\n",
    "y=le.fit_transform(y)\n",
    "y"
   ]
  },
  {
   "cell_type": "code",
   "execution_count": 91,
   "id": "5bc66ac1-1ac1-4e57-b4b6-ade92203e25a",
   "metadata": {},
   "outputs": [
    {
     "name": "stderr",
     "output_type": "stream",
     "text": [
      "python(63525) MallocStackLogging: can't turn off malloc stack logging because it was not enabled.\n",
      "python(63526) MallocStackLogging: can't turn off malloc stack logging because it was not enabled.\n",
      "python(63527) MallocStackLogging: can't turn off malloc stack logging because it was not enabled.\n",
      "python(63528) MallocStackLogging: can't turn off malloc stack logging because it was not enabled.\n",
      "python(63529) MallocStackLogging: can't turn off malloc stack logging because it was not enabled.\n",
      "python(63530) MallocStackLogging: can't turn off malloc stack logging because it was not enabled.\n",
      "python(63531) MallocStackLogging: can't turn off malloc stack logging because it was not enabled.\n",
      "python(63532) MallocStackLogging: can't turn off malloc stack logging because it was not enabled.\n"
     ]
    },
    {
     "data": {
      "text/html": [
       "<style>#sk-container-id-2 {color: black;}#sk-container-id-2 pre{padding: 0;}#sk-container-id-2 div.sk-toggleable {background-color: white;}#sk-container-id-2 label.sk-toggleable__label {cursor: pointer;display: block;width: 100%;margin-bottom: 0;padding: 0.3em;box-sizing: border-box;text-align: center;}#sk-container-id-2 label.sk-toggleable__label-arrow:before {content: \"▸\";float: left;margin-right: 0.25em;color: #696969;}#sk-container-id-2 label.sk-toggleable__label-arrow:hover:before {color: black;}#sk-container-id-2 div.sk-estimator:hover label.sk-toggleable__label-arrow:before {color: black;}#sk-container-id-2 div.sk-toggleable__content {max-height: 0;max-width: 0;overflow: hidden;text-align: left;background-color: #f0f8ff;}#sk-container-id-2 div.sk-toggleable__content pre {margin: 0.2em;color: black;border-radius: 0.25em;background-color: #f0f8ff;}#sk-container-id-2 input.sk-toggleable__control:checked~div.sk-toggleable__content {max-height: 200px;max-width: 100%;overflow: auto;}#sk-container-id-2 input.sk-toggleable__control:checked~label.sk-toggleable__label-arrow:before {content: \"▾\";}#sk-container-id-2 div.sk-estimator input.sk-toggleable__control:checked~label.sk-toggleable__label {background-color: #d4ebff;}#sk-container-id-2 div.sk-label input.sk-toggleable__control:checked~label.sk-toggleable__label {background-color: #d4ebff;}#sk-container-id-2 input.sk-hidden--visually {border: 0;clip: rect(1px 1px 1px 1px);clip: rect(1px, 1px, 1px, 1px);height: 1px;margin: -1px;overflow: hidden;padding: 0;position: absolute;width: 1px;}#sk-container-id-2 div.sk-estimator {font-family: monospace;background-color: #f0f8ff;border: 1px dotted black;border-radius: 0.25em;box-sizing: border-box;margin-bottom: 0.5em;}#sk-container-id-2 div.sk-estimator:hover {background-color: #d4ebff;}#sk-container-id-2 div.sk-parallel-item::after {content: \"\";width: 100%;border-bottom: 1px solid gray;flex-grow: 1;}#sk-container-id-2 div.sk-label:hover label.sk-toggleable__label {background-color: #d4ebff;}#sk-container-id-2 div.sk-serial::before {content: \"\";position: absolute;border-left: 1px solid gray;box-sizing: border-box;top: 0;bottom: 0;left: 50%;z-index: 0;}#sk-container-id-2 div.sk-serial {display: flex;flex-direction: column;align-items: center;background-color: white;padding-right: 0.2em;padding-left: 0.2em;position: relative;}#sk-container-id-2 div.sk-item {position: relative;z-index: 1;}#sk-container-id-2 div.sk-parallel {display: flex;align-items: stretch;justify-content: center;background-color: white;position: relative;}#sk-container-id-2 div.sk-item::before, #sk-container-id-2 div.sk-parallel-item::before {content: \"\";position: absolute;border-left: 1px solid gray;box-sizing: border-box;top: 0;bottom: 0;left: 50%;z-index: -1;}#sk-container-id-2 div.sk-parallel-item {display: flex;flex-direction: column;z-index: 1;position: relative;background-color: white;}#sk-container-id-2 div.sk-parallel-item:first-child::after {align-self: flex-end;width: 50%;}#sk-container-id-2 div.sk-parallel-item:last-child::after {align-self: flex-start;width: 50%;}#sk-container-id-2 div.sk-parallel-item:only-child::after {width: 0;}#sk-container-id-2 div.sk-dashed-wrapped {border: 1px dashed gray;margin: 0 0.4em 0.5em 0.4em;box-sizing: border-box;padding-bottom: 0.4em;background-color: white;}#sk-container-id-2 div.sk-label label {font-family: monospace;font-weight: bold;display: inline-block;line-height: 1.2em;}#sk-container-id-2 div.sk-label-container {text-align: center;}#sk-container-id-2 div.sk-container {/* jupyter's `normalize.less` sets `[hidden] { display: none; }` but bootstrap.min.css set `[hidden] { display: none !important; }` so we also need the `!important` here to be able to override the default hidden behavior on the sphinx rendered scikit-learn.org. See: https://github.com/scikit-learn/scikit-learn/issues/21755 */display: inline-block !important;position: relative;}#sk-container-id-2 div.sk-text-repr-fallback {display: none;}</style><div id=\"sk-container-id-2\" class=\"sk-top-container\"><div class=\"sk-text-repr-fallback\"><pre>XGBClassifier(base_score=None, booster=None, callbacks=None,\n",
       "              colsample_bylevel=None, colsample_bynode=None,\n",
       "              colsample_bytree=None, device=None, early_stopping_rounds=None,\n",
       "              enable_categorical=False, eval_metric=None, feature_types=None,\n",
       "              gamma=None, grow_policy=None, importance_type=None,\n",
       "              interaction_constraints=None, learning_rate=0.22311250284899017,\n",
       "              max_bin=None, max_cat_threshold=None, max_cat_to_onehot=None,\n",
       "              max_delta_step=None, max_depth=6, max_leaves=None,\n",
       "              min_child_weight=None, missing=nan, monotone_constraints=None,\n",
       "              multi_strategy=None, n_estimators=347, n_jobs=None,\n",
       "              num_parallel_tree=None, random_state=None, ...)</pre><b>In a Jupyter environment, please rerun this cell to show the HTML representation or trust the notebook. <br />On GitHub, the HTML representation is unable to render, please try loading this page with nbviewer.org.</b></div><div class=\"sk-container\" hidden><div class=\"sk-item\"><div class=\"sk-estimator sk-toggleable\"><input class=\"sk-toggleable__control sk-hidden--visually\" id=\"sk-estimator-id-2\" type=\"checkbox\" checked><label for=\"sk-estimator-id-2\" class=\"sk-toggleable__label sk-toggleable__label-arrow\">XGBClassifier</label><div class=\"sk-toggleable__content\"><pre>XGBClassifier(base_score=None, booster=None, callbacks=None,\n",
       "              colsample_bylevel=None, colsample_bynode=None,\n",
       "              colsample_bytree=None, device=None, early_stopping_rounds=None,\n",
       "              enable_categorical=False, eval_metric=None, feature_types=None,\n",
       "              gamma=None, grow_policy=None, importance_type=None,\n",
       "              interaction_constraints=None, learning_rate=0.22311250284899017,\n",
       "              max_bin=None, max_cat_threshold=None, max_cat_to_onehot=None,\n",
       "              max_delta_step=None, max_depth=6, max_leaves=None,\n",
       "              min_child_weight=None, missing=nan, monotone_constraints=None,\n",
       "              multi_strategy=None, n_estimators=347, n_jobs=None,\n",
       "              num_parallel_tree=None, random_state=None, ...)</pre></div></div></div></div></div>"
      ],
      "text/plain": [
       "XGBClassifier(base_score=None, booster=None, callbacks=None,\n",
       "              colsample_bylevel=None, colsample_bynode=None,\n",
       "              colsample_bytree=None, device=None, early_stopping_rounds=None,\n",
       "              enable_categorical=False, eval_metric=None, feature_types=None,\n",
       "              gamma=None, grow_policy=None, importance_type=None,\n",
       "              interaction_constraints=None, learning_rate=0.22311250284899017,\n",
       "              max_bin=None, max_cat_threshold=None, max_cat_to_onehot=None,\n",
       "              max_delta_step=None, max_depth=6, max_leaves=None,\n",
       "              min_child_weight=None, missing=nan, monotone_constraints=None,\n",
       "              multi_strategy=None, n_estimators=347, n_jobs=None,\n",
       "              num_parallel_tree=None, random_state=None, ...)"
      ]
     },
     "execution_count": 91,
     "metadata": {},
     "output_type": "execute_result"
    }
   ],
   "source": [
    "X_train, X_test, y_train, y_test = train_test_split(X, y, test_size = 0.3, random_state=42)\n",
    "\n",
    "grid = {'n_estimators': randint(1, 400),\n",
    "        'max_depth': randint(1, 13),  \n",
    "        'learning_rate': loguniform (0.001, 10)\n",
    "       }\n",
    "bst = XGBClassifier()\n",
    "# Instantiate Grid Search\n",
    "search = RandomizedSearchCV(\n",
    "    bst,\n",
    "    grid, \n",
    "    scoring='accuracy',\n",
    "    n_iter=1000,  \n",
    "    cv=5, n_jobs=-1\n",
    ")\n",
    "\n",
    "search.fit(X_train, y_train)\n",
    "search.best_estimator_"
   ]
  },
  {
   "cell_type": "code",
   "execution_count": 96,
   "id": "7f3d6a76-22f9-49b7-813b-0ed1c0c843f0",
   "metadata": {},
   "outputs": [
    {
     "name": "stderr",
     "output_type": "stream",
     "text": [
      "python(63654) MallocStackLogging: can't turn off malloc stack logging because it was not enabled.\n",
      "python(63655) MallocStackLogging: can't turn off malloc stack logging because it was not enabled.\n",
      "python(63656) MallocStackLogging: can't turn off malloc stack logging because it was not enabled.\n",
      "python(63657) MallocStackLogging: can't turn off malloc stack logging because it was not enabled.\n",
      "python(63658) MallocStackLogging: can't turn off malloc stack logging because it was not enabled.\n",
      "python(63659) MallocStackLogging: can't turn off malloc stack logging because it was not enabled.\n",
      "python(63660) MallocStackLogging: can't turn off malloc stack logging because it was not enabled.\n",
      "python(63661) MallocStackLogging: can't turn off malloc stack logging because it was not enabled.\n"
     ]
    },
    {
     "data": {
      "text/html": [
       "<style>#sk-container-id-3 {color: black;}#sk-container-id-3 pre{padding: 0;}#sk-container-id-3 div.sk-toggleable {background-color: white;}#sk-container-id-3 label.sk-toggleable__label {cursor: pointer;display: block;width: 100%;margin-bottom: 0;padding: 0.3em;box-sizing: border-box;text-align: center;}#sk-container-id-3 label.sk-toggleable__label-arrow:before {content: \"▸\";float: left;margin-right: 0.25em;color: #696969;}#sk-container-id-3 label.sk-toggleable__label-arrow:hover:before {color: black;}#sk-container-id-3 div.sk-estimator:hover label.sk-toggleable__label-arrow:before {color: black;}#sk-container-id-3 div.sk-toggleable__content {max-height: 0;max-width: 0;overflow: hidden;text-align: left;background-color: #f0f8ff;}#sk-container-id-3 div.sk-toggleable__content pre {margin: 0.2em;color: black;border-radius: 0.25em;background-color: #f0f8ff;}#sk-container-id-3 input.sk-toggleable__control:checked~div.sk-toggleable__content {max-height: 200px;max-width: 100%;overflow: auto;}#sk-container-id-3 input.sk-toggleable__control:checked~label.sk-toggleable__label-arrow:before {content: \"▾\";}#sk-container-id-3 div.sk-estimator input.sk-toggleable__control:checked~label.sk-toggleable__label {background-color: #d4ebff;}#sk-container-id-3 div.sk-label input.sk-toggleable__control:checked~label.sk-toggleable__label {background-color: #d4ebff;}#sk-container-id-3 input.sk-hidden--visually {border: 0;clip: rect(1px 1px 1px 1px);clip: rect(1px, 1px, 1px, 1px);height: 1px;margin: -1px;overflow: hidden;padding: 0;position: absolute;width: 1px;}#sk-container-id-3 div.sk-estimator {font-family: monospace;background-color: #f0f8ff;border: 1px dotted black;border-radius: 0.25em;box-sizing: border-box;margin-bottom: 0.5em;}#sk-container-id-3 div.sk-estimator:hover {background-color: #d4ebff;}#sk-container-id-3 div.sk-parallel-item::after {content: \"\";width: 100%;border-bottom: 1px solid gray;flex-grow: 1;}#sk-container-id-3 div.sk-label:hover label.sk-toggleable__label {background-color: #d4ebff;}#sk-container-id-3 div.sk-serial::before {content: \"\";position: absolute;border-left: 1px solid gray;box-sizing: border-box;top: 0;bottom: 0;left: 50%;z-index: 0;}#sk-container-id-3 div.sk-serial {display: flex;flex-direction: column;align-items: center;background-color: white;padding-right: 0.2em;padding-left: 0.2em;position: relative;}#sk-container-id-3 div.sk-item {position: relative;z-index: 1;}#sk-container-id-3 div.sk-parallel {display: flex;align-items: stretch;justify-content: center;background-color: white;position: relative;}#sk-container-id-3 div.sk-item::before, #sk-container-id-3 div.sk-parallel-item::before {content: \"\";position: absolute;border-left: 1px solid gray;box-sizing: border-box;top: 0;bottom: 0;left: 50%;z-index: -1;}#sk-container-id-3 div.sk-parallel-item {display: flex;flex-direction: column;z-index: 1;position: relative;background-color: white;}#sk-container-id-3 div.sk-parallel-item:first-child::after {align-self: flex-end;width: 50%;}#sk-container-id-3 div.sk-parallel-item:last-child::after {align-self: flex-start;width: 50%;}#sk-container-id-3 div.sk-parallel-item:only-child::after {width: 0;}#sk-container-id-3 div.sk-dashed-wrapped {border: 1px dashed gray;margin: 0 0.4em 0.5em 0.4em;box-sizing: border-box;padding-bottom: 0.4em;background-color: white;}#sk-container-id-3 div.sk-label label {font-family: monospace;font-weight: bold;display: inline-block;line-height: 1.2em;}#sk-container-id-3 div.sk-label-container {text-align: center;}#sk-container-id-3 div.sk-container {/* jupyter's `normalize.less` sets `[hidden] { display: none; }` but bootstrap.min.css set `[hidden] { display: none !important; }` so we also need the `!important` here to be able to override the default hidden behavior on the sphinx rendered scikit-learn.org. See: https://github.com/scikit-learn/scikit-learn/issues/21755 */display: inline-block !important;position: relative;}#sk-container-id-3 div.sk-text-repr-fallback {display: none;}</style><div id=\"sk-container-id-3\" class=\"sk-top-container\"><div class=\"sk-text-repr-fallback\"><pre>XGBClassifier(base_score=None, booster=None, callbacks=None,\n",
       "              colsample_bylevel=None, colsample_bynode=None,\n",
       "              colsample_bytree=None, device=None, early_stopping_rounds=None,\n",
       "              enable_categorical=False, eval_metric=None, feature_types=None,\n",
       "              gamma=None, grow_policy=None, importance_type=None,\n",
       "              interaction_constraints=None, learning_rate=0.22, max_bin=None,\n",
       "              max_cat_threshold=None, max_cat_to_onehot=None,\n",
       "              max_delta_step=None, max_depth=6, max_leaves=None,\n",
       "              min_child_weight=None, missing=nan, monotone_constraints=None,\n",
       "              multi_strategy=None, n_estimators=329, n_jobs=None,\n",
       "              num_parallel_tree=None, random_state=None, ...)</pre><b>In a Jupyter environment, please rerun this cell to show the HTML representation or trust the notebook. <br />On GitHub, the HTML representation is unable to render, please try loading this page with nbviewer.org.</b></div><div class=\"sk-container\" hidden><div class=\"sk-item\"><div class=\"sk-estimator sk-toggleable\"><input class=\"sk-toggleable__control sk-hidden--visually\" id=\"sk-estimator-id-3\" type=\"checkbox\" checked><label for=\"sk-estimator-id-3\" class=\"sk-toggleable__label sk-toggleable__label-arrow\">XGBClassifier</label><div class=\"sk-toggleable__content\"><pre>XGBClassifier(base_score=None, booster=None, callbacks=None,\n",
       "              colsample_bylevel=None, colsample_bynode=None,\n",
       "              colsample_bytree=None, device=None, early_stopping_rounds=None,\n",
       "              enable_categorical=False, eval_metric=None, feature_types=None,\n",
       "              gamma=None, grow_policy=None, importance_type=None,\n",
       "              interaction_constraints=None, learning_rate=0.22, max_bin=None,\n",
       "              max_cat_threshold=None, max_cat_to_onehot=None,\n",
       "              max_delta_step=None, max_depth=6, max_leaves=None,\n",
       "              min_child_weight=None, missing=nan, monotone_constraints=None,\n",
       "              multi_strategy=None, n_estimators=329, n_jobs=None,\n",
       "              num_parallel_tree=None, random_state=None, ...)</pre></div></div></div></div></div>"
      ],
      "text/plain": [
       "XGBClassifier(base_score=None, booster=None, callbacks=None,\n",
       "              colsample_bylevel=None, colsample_bynode=None,\n",
       "              colsample_bytree=None, device=None, early_stopping_rounds=None,\n",
       "              enable_categorical=False, eval_metric=None, feature_types=None,\n",
       "              gamma=None, grow_policy=None, importance_type=None,\n",
       "              interaction_constraints=None, learning_rate=0.22, max_bin=None,\n",
       "              max_cat_threshold=None, max_cat_to_onehot=None,\n",
       "              max_delta_step=None, max_depth=6, max_leaves=None,\n",
       "              min_child_weight=None, missing=nan, monotone_constraints=None,\n",
       "              multi_strategy=None, n_estimators=329, n_jobs=None,\n",
       "              num_parallel_tree=None, random_state=None, ...)"
      ]
     },
     "execution_count": 96,
     "metadata": {},
     "output_type": "execute_result"
    }
   ],
   "source": [
    "grid = {'n_estimators': range(320, 360),\n",
    "        'max_depth': range(4,7),  \n",
    "        'learning_rate': [0.2, 0.22, 0.23, 0.24, 0.25, 0.26, 0.27, 0.28]\n",
    "       }\n",
    "bst = XGBClassifier()\n",
    "# Instantiate Grid Search\n",
    "search = GridSearchCV(\n",
    "    bst,\n",
    "    grid, \n",
    "    scoring='accuracy',\n",
    "    cv=5, n_jobs=-1\n",
    ")\n",
    "search.fit(X_train, y_train)\n",
    "search.best_estimator_"
   ]
  },
  {
   "cell_type": "code",
   "execution_count": 92,
   "id": "e9d2ecd1-5848-4794-9ab9-a39aa9832a39",
   "metadata": {
    "scrolled": true
   },
   "outputs": [
    {
     "data": {
      "text/plain": [
       "0.9924434519625549"
      ]
     },
     "execution_count": 92,
     "metadata": {},
     "output_type": "execute_result"
    }
   ],
   "source": [
    "X_train, X_test, y_train, y_test = train_test_split(X, y, test_size = 0.3, random_state=42)\n",
    "bst = XGBClassifier(n_estimators=347, max_depth=6, learning_rate=0.22311250284899017, objective='binary:logistic')"
   ]
  },
  {
   "cell_type": "code",
   "execution_count": 79,
   "id": "795e9372-3e34-4bb3-8421-ca8dac2c8791",
   "metadata": {},
   "outputs": [
    {
     "data": {
      "text/plain": [
       "array([1, 0, 0, ..., 0, 1, 0])"
      ]
     },
     "execution_count": 79,
     "metadata": {},
     "output_type": "execute_result"
    }
   ],
   "source": [
    "bst.fit(X_train, y_train)\n",
    "preds = bst.predict(X_test)\n",
    "preds"
   ]
  },
  {
   "cell_type": "code",
   "execution_count": 87,
   "id": "f7841040-4f79-4e2f-860f-69f477362a72",
   "metadata": {},
   "outputs": [
    {
     "name": "stdout",
     "output_type": "stream",
     "text": [
      "Accuracy: 99.29258630447086%\n",
      "Precision = 0.992533\n",
      "Recall = 0.993103\n",
      "F1 score = 0.992818\n"
     ]
    }
   ],
   "source": [
    "\n",
    "# Evaluating accuracy\n",
    "accuracy = accuracy_score(y_test, preds)\n",
    "print(f\"Accuracy: {accuracy * 100.0}%\")\n",
    "print('Precision =', round(precision_score(y_test, preds), 6)) # Precision\n",
    "\n",
    "print('Recall =', round(recall_score(y_test, preds), 6)) # Recall\n",
    "\n",
    "print('F1 score =', round(f1_score(y_test, preds), 6)) # F1 score"
   ]
  },
  {
   "cell_type": "code",
   "execution_count": null,
   "id": "36d47a82-aaab-45db-8aa4-3532e1245de3",
   "metadata": {},
   "outputs": [],
   "source": []
  },
  {
   "cell_type": "code",
   "execution_count": 112,
   "id": "c51ca1a9-6dfa-434a-8cf9-95ad3f74ee41",
   "metadata": {},
   "outputs": [],
   "source": [
    "\n",
    "\n",
    "from sklearn.ensemble import RandomForestClassifier\n",
    "\n",
    "forest = RandomForestClassifier(n_estimators=100)\n",
    "cv_results = cross_validate(forest, X_train, y_train, scoring = \"accuracy\", cv=5)\n"
   ]
  },
  {
   "cell_type": "code",
   "execution_count": 117,
   "id": "b35e1fed-8ed4-4dbf-99df-512f0332d398",
   "metadata": {},
   "outputs": [
    {
     "data": {
      "text/plain": [
       "0.984109154121062"
      ]
     },
     "execution_count": 117,
     "metadata": {},
     "output_type": "execute_result"
    }
   ],
   "source": [
    "cv_results['test_score'].mean()"
   ]
  },
  {
   "cell_type": "code",
   "execution_count": 118,
   "id": "0405b5e2-702c-470c-8d1e-d5ddd06addf4",
   "metadata": {},
   "outputs": [],
   "source": [
    "grid = {'n_estimators': range(0,100)}\n",
    "\n",
    "search = GridSearchCV(\n",
    "    forest,\n",
    "    grid, \n",
    "    scoring='accuracy',\n",
    "    cv=5, n_jobs=-1\n",
    ")"
   ]
  },
  {
   "cell_type": "code",
   "execution_count": 119,
   "id": "da4f5804-8f9d-4c26-9dff-cf71304da2eb",
   "metadata": {},
   "outputs": [
    {
     "name": "stderr",
     "output_type": "stream",
     "text": [
      "python(64413) MallocStackLogging: can't turn off malloc stack logging because it was not enabled.\n",
      "python(64414) MallocStackLogging: can't turn off malloc stack logging because it was not enabled.\n",
      "python(64415) MallocStackLogging: can't turn off malloc stack logging because it was not enabled.\n",
      "python(64417) MallocStackLogging: can't turn off malloc stack logging because it was not enabled.\n",
      "python(64418) MallocStackLogging: can't turn off malloc stack logging because it was not enabled.\n",
      "python(64419) MallocStackLogging: can't turn off malloc stack logging because it was not enabled.\n",
      "python(64420) MallocStackLogging: can't turn off malloc stack logging because it was not enabled.\n",
      "python(64421) MallocStackLogging: can't turn off malloc stack logging because it was not enabled.\n",
      "/Users/andimand/.pyenv/versions/3.10.6/envs/Deep_fake_voice_recognition/lib/python3.10/site-packages/sklearn/model_selection/_validation.py:425: FitFailedWarning: \n",
      "5 fits failed out of a total of 500.\n",
      "The score on these train-test partitions for these parameters will be set to nan.\n",
      "If these failures are not expected, you can try to debug them by setting error_score='raise'.\n",
      "\n",
      "Below are more details about the failures:\n",
      "--------------------------------------------------------------------------------\n",
      "5 fits failed with the following error:\n",
      "Traceback (most recent call last):\n",
      "  File \"/Users/andimand/.pyenv/versions/3.10.6/envs/Deep_fake_voice_recognition/lib/python3.10/site-packages/sklearn/model_selection/_validation.py\", line 729, in _fit_and_score\n",
      "    estimator.fit(X_train, y_train, **fit_params)\n",
      "  File \"/Users/andimand/.pyenv/versions/3.10.6/envs/Deep_fake_voice_recognition/lib/python3.10/site-packages/sklearn/base.py\", line 1145, in wrapper\n",
      "    estimator._validate_params()\n",
      "  File \"/Users/andimand/.pyenv/versions/3.10.6/envs/Deep_fake_voice_recognition/lib/python3.10/site-packages/sklearn/base.py\", line 638, in _validate_params\n",
      "    validate_parameter_constraints(\n",
      "  File \"/Users/andimand/.pyenv/versions/3.10.6/envs/Deep_fake_voice_recognition/lib/python3.10/site-packages/sklearn/utils/_param_validation.py\", line 96, in validate_parameter_constraints\n",
      "    raise InvalidParameterError(\n",
      "sklearn.utils._param_validation.InvalidParameterError: The 'n_estimators' parameter of RandomForestClassifier must be an int in the range [1, inf). Got 0 instead.\n",
      "\n",
      "  warnings.warn(some_fits_failed_message, FitFailedWarning)\n",
      "/Users/andimand/.pyenv/versions/3.10.6/envs/Deep_fake_voice_recognition/lib/python3.10/site-packages/sklearn/model_selection/_search.py:979: UserWarning: One or more of the test scores are non-finite: [       nan 0.91472553 0.91545354 0.95257151 0.95305657 0.9650654\n",
      " 0.96458055 0.96821875 0.96967513 0.97513328 0.97440564 0.97755885\n",
      " 0.97658856 0.97768065 0.9759825  0.97828686 0.98010607 0.9815623\n",
      " 0.97901479 0.98131958 0.9813201  0.97974287 0.9805918  0.98144094\n",
      " 0.98047051 0.98241101 0.98083429 0.97998559 0.9807133  0.98156186\n",
      " 0.98265417 0.98398802 0.98216858 0.98204715 0.98350287 0.98071301\n",
      " 0.9830178  0.98313916 0.98338181 0.98398802 0.98168315 0.98144065\n",
      " 0.98386688 0.98410923 0.98350331 0.98313916 0.98447375 0.98447345\n",
      " 0.98350317 0.98277501 0.98168366 0.98301758 0.98265395 0.98216829\n",
      " 0.98277553 0.98410952 0.98544388 0.98253288 0.98350331 0.98459474\n",
      " 0.98338166 0.98253251 0.98423066 0.98447389 0.98338144 0.98483724\n",
      " 0.98277553 0.9826538  0.98289652 0.98386673 0.98326052 0.98447331\n",
      " 0.98374589 0.98350295 0.98471602 0.98350287 0.98386688 0.98508003\n",
      " 0.98326045 0.98471595 0.98520117 0.98459459 0.98532238 0.98410967\n",
      " 0.98350317 0.98544374 0.98398802 0.98374544 0.98423073 0.98386688\n",
      " 0.98544418 0.9835028  0.98483746 0.98568616 0.98483746 0.98447331\n",
      " 0.98459474 0.98374581 0.9847161  0.98580737]\n",
      "  warnings.warn(\n"
     ]
    },
    {
     "data": {
      "text/html": [
       "<style>#sk-container-id-4 {color: black;}#sk-container-id-4 pre{padding: 0;}#sk-container-id-4 div.sk-toggleable {background-color: white;}#sk-container-id-4 label.sk-toggleable__label {cursor: pointer;display: block;width: 100%;margin-bottom: 0;padding: 0.3em;box-sizing: border-box;text-align: center;}#sk-container-id-4 label.sk-toggleable__label-arrow:before {content: \"▸\";float: left;margin-right: 0.25em;color: #696969;}#sk-container-id-4 label.sk-toggleable__label-arrow:hover:before {color: black;}#sk-container-id-4 div.sk-estimator:hover label.sk-toggleable__label-arrow:before {color: black;}#sk-container-id-4 div.sk-toggleable__content {max-height: 0;max-width: 0;overflow: hidden;text-align: left;background-color: #f0f8ff;}#sk-container-id-4 div.sk-toggleable__content pre {margin: 0.2em;color: black;border-radius: 0.25em;background-color: #f0f8ff;}#sk-container-id-4 input.sk-toggleable__control:checked~div.sk-toggleable__content {max-height: 200px;max-width: 100%;overflow: auto;}#sk-container-id-4 input.sk-toggleable__control:checked~label.sk-toggleable__label-arrow:before {content: \"▾\";}#sk-container-id-4 div.sk-estimator input.sk-toggleable__control:checked~label.sk-toggleable__label {background-color: #d4ebff;}#sk-container-id-4 div.sk-label input.sk-toggleable__control:checked~label.sk-toggleable__label {background-color: #d4ebff;}#sk-container-id-4 input.sk-hidden--visually {border: 0;clip: rect(1px 1px 1px 1px);clip: rect(1px, 1px, 1px, 1px);height: 1px;margin: -1px;overflow: hidden;padding: 0;position: absolute;width: 1px;}#sk-container-id-4 div.sk-estimator {font-family: monospace;background-color: #f0f8ff;border: 1px dotted black;border-radius: 0.25em;box-sizing: border-box;margin-bottom: 0.5em;}#sk-container-id-4 div.sk-estimator:hover {background-color: #d4ebff;}#sk-container-id-4 div.sk-parallel-item::after {content: \"\";width: 100%;border-bottom: 1px solid gray;flex-grow: 1;}#sk-container-id-4 div.sk-label:hover label.sk-toggleable__label {background-color: #d4ebff;}#sk-container-id-4 div.sk-serial::before {content: \"\";position: absolute;border-left: 1px solid gray;box-sizing: border-box;top: 0;bottom: 0;left: 50%;z-index: 0;}#sk-container-id-4 div.sk-serial {display: flex;flex-direction: column;align-items: center;background-color: white;padding-right: 0.2em;padding-left: 0.2em;position: relative;}#sk-container-id-4 div.sk-item {position: relative;z-index: 1;}#sk-container-id-4 div.sk-parallel {display: flex;align-items: stretch;justify-content: center;background-color: white;position: relative;}#sk-container-id-4 div.sk-item::before, #sk-container-id-4 div.sk-parallel-item::before {content: \"\";position: absolute;border-left: 1px solid gray;box-sizing: border-box;top: 0;bottom: 0;left: 50%;z-index: -1;}#sk-container-id-4 div.sk-parallel-item {display: flex;flex-direction: column;z-index: 1;position: relative;background-color: white;}#sk-container-id-4 div.sk-parallel-item:first-child::after {align-self: flex-end;width: 50%;}#sk-container-id-4 div.sk-parallel-item:last-child::after {align-self: flex-start;width: 50%;}#sk-container-id-4 div.sk-parallel-item:only-child::after {width: 0;}#sk-container-id-4 div.sk-dashed-wrapped {border: 1px dashed gray;margin: 0 0.4em 0.5em 0.4em;box-sizing: border-box;padding-bottom: 0.4em;background-color: white;}#sk-container-id-4 div.sk-label label {font-family: monospace;font-weight: bold;display: inline-block;line-height: 1.2em;}#sk-container-id-4 div.sk-label-container {text-align: center;}#sk-container-id-4 div.sk-container {/* jupyter's `normalize.less` sets `[hidden] { display: none; }` but bootstrap.min.css set `[hidden] { display: none !important; }` so we also need the `!important` here to be able to override the default hidden behavior on the sphinx rendered scikit-learn.org. See: https://github.com/scikit-learn/scikit-learn/issues/21755 */display: inline-block !important;position: relative;}#sk-container-id-4 div.sk-text-repr-fallback {display: none;}</style><div id=\"sk-container-id-4\" class=\"sk-top-container\"><div class=\"sk-text-repr-fallback\"><pre>RandomForestClassifier(n_estimators=99)</pre><b>In a Jupyter environment, please rerun this cell to show the HTML representation or trust the notebook. <br />On GitHub, the HTML representation is unable to render, please try loading this page with nbviewer.org.</b></div><div class=\"sk-container\" hidden><div class=\"sk-item\"><div class=\"sk-estimator sk-toggleable\"><input class=\"sk-toggleable__control sk-hidden--visually\" id=\"sk-estimator-id-4\" type=\"checkbox\" checked><label for=\"sk-estimator-id-4\" class=\"sk-toggleable__label sk-toggleable__label-arrow\">RandomForestClassifier</label><div class=\"sk-toggleable__content\"><pre>RandomForestClassifier(n_estimators=99)</pre></div></div></div></div></div>"
      ],
      "text/plain": [
       "RandomForestClassifier(n_estimators=99)"
      ]
     },
     "execution_count": 119,
     "metadata": {},
     "output_type": "execute_result"
    }
   ],
   "source": [
    "search.fit(X_train, y_train)\n",
    "search.best_estimator_"
   ]
  },
  {
   "cell_type": "code",
   "execution_count": 125,
   "id": "536caad6-b56e-4968-9ccb-d599805cc6b6",
   "metadata": {},
   "outputs": [],
   "source": [
    "forest = RandomForestClassifier(n_estimators=99)"
   ]
  },
  {
   "cell_type": "code",
   "execution_count": 128,
   "id": "5da840db-ec66-4a87-8951-4405037e194c",
   "metadata": {},
   "outputs": [
    {
     "name": "stdout",
     "output_type": "stream",
     "text": [
      "Accuracy: 98.64176570458405%\n",
      "Precision = 0.990151\n",
      "Recall = 0.982184\n",
      "F1 score = 0.986151\n"
     ]
    }
   ],
   "source": [
    "forest.fit(X_train, y_train)\n",
    "pred_forest = forest.predict(X_test)\n",
    "\n",
    "accuracy = accuracy_score(y_test, pred_forest)\n",
    "print(f\"Accuracy: {accuracy * 100.0}%\")\n",
    "print('Precision =', round(precision_score(y_test, pred_forest), 6)) # Precision\n",
    "\n",
    "print('Recall =', round(recall_score(y_test, pred_forest), 6)) # Recall\n",
    "\n",
    "print('F1 score =', round(f1_score(y_test, pred_forest), 6)) # F1 score\n"
   ]
  },
  {
   "cell_type": "code",
   "execution_count": null,
   "id": "e9b42ee2-ab12-451f-9228-35e618af27d3",
   "metadata": {},
   "outputs": [],
   "source": []
  },
  {
   "cell_type": "code",
   "execution_count": 129,
   "id": "fd73cb3b-97fe-422e-9f74-640f2403b8a5",
   "metadata": {},
   "outputs": [
    {
     "name": "stderr",
     "output_type": "stream",
     "text": [
      "python(65973) MallocStackLogging: can't turn off malloc stack logging because it was not enabled.\n",
      "python(65974) MallocStackLogging: can't turn off malloc stack logging because it was not enabled.\n"
     ]
    }
   ],
   "source": [
    "import librosa\n",
    "import soundfile as sf\n",
    "\n",
    "# Load the audio file\n",
    "filename = 'raw_data/archive/KAGGLE/AUDIO/Ryan Gosling interview.wav'\n",
    "y, sr = librosa.load(filename, sr=None)\n",
    "\n",
    "# Define start and end times\n",
    "start_sec = 2 * 60  # 2 minutes\n",
    "end_sec = start_sec + 4  # 4 seconds after the start\n",
    "\n",
    "# Convert times to samples\n",
    "start_sample = int(start_sec * sr)\n",
    "end_sample = int(end_sec * sr)\n",
    "\n",
    "# Extract the segment\n",
    "segment = y[start_sample:end_sample]\n",
    "\n",
    "# Save the segment\n",
    "out_filename = 'extracted_segment_ryan.wav'\n",
    "sf.write(out_filename, segment, sr)\n",
    "\n"
   ]
  },
  {
   "cell_type": "code",
   "execution_count": null,
   "id": "9bdc0d95-fe55-4a2f-ac07-5bab903965bc",
   "metadata": {},
   "outputs": [],
   "source": []
  }
 ],
 "metadata": {
  "kernelspec": {
   "display_name": "Python 3 (ipykernel)",
   "language": "python",
   "name": "python3"
  },
  "language_info": {
   "codemirror_mode": {
    "name": "ipython",
    "version": 3
   },
   "file_extension": ".py",
   "mimetype": "text/x-python",
   "name": "python",
   "nbconvert_exporter": "python",
   "pygments_lexer": "ipython3",
   "version": "3.10.6"
  }
 },
 "nbformat": 4,
 "nbformat_minor": 5
}
