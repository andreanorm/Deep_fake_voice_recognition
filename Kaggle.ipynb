{
 "cells": [
  {
   "cell_type": "code",
   "execution_count": 1,
   "id": "53263ef2-3111-401e-a7de-35fc96b7d4fc",
   "metadata": {
    "tags": []
   },
   "outputs": [],
   "source": [
    "! pip install -q kaggle\n"
   ]
  },
  {
   "cell_type": "code",
   "execution_count": 2,
   "id": "42274fc8-2554-41fe-8ce5-43d0faedba38",
   "metadata": {
    "tags": []
   },
   "outputs": [],
   "source": [
    "! mkdir ~/.kaggle"
   ]
  },
  {
   "cell_type": "code",
   "execution_count": 4,
   "id": "5e680ab7-b46e-417c-b6e8-84a6fbb13aa7",
   "metadata": {
    "tags": []
   },
   "outputs": [],
   "source": [
    "! cp kaggle.json ~/.kaggle/"
   ]
  },
  {
   "cell_type": "code",
   "execution_count": 5,
   "id": "d3c541c9-b340-46f1-87fb-60a4220d0f19",
   "metadata": {
    "tags": []
   },
   "outputs": [],
   "source": [
    "! chmod 600 ~/.kaggle/kaggle.json"
   ]
  },
  {
   "cell_type": "code",
   "execution_count": 6,
   "id": "acf817b8-eec9-4422-b5d6-8e5e629e87a0",
   "metadata": {
    "tags": []
   },
   "outputs": [
    {
     "name": "stdout",
     "output_type": "stream",
     "text": [
      "ref                                                     title                                        size  lastUpdated          downloadCount  voteCount  usabilityRating  \n",
      "------------------------------------------------------  ------------------------------------------  -----  -------------------  -------------  ---------  ---------------  \n",
      "thedrcat/daigt-v2-train-dataset                         DAIGT V2 Train Dataset                       29MB  2023-11-16 01:38:36           1348        143  1.0              \n",
      "muhammadbinimran/housing-price-prediction-data          Housing Price Prediction Data               763KB  2023-11-21 17:56:32           5648        101  1.0              \n",
      "fatihilhan/global-superstore-dataset                    Global Superstore Dataset                     3MB  2023-11-16 11:58:36           1665         30  1.0              \n",
      "joebeachcapital/30000-spotify-songs                     30000 Spotify Songs                           3MB  2023-11-01 06:06:43          10588        225  1.0              \n",
      "fatihilhan/electric-vehicle-specifications-and-prices   Electric Vehicle Specifications and Prices   10KB  2023-11-28 08:39:43            958         25  1.0              \n",
      "thedrcat/daigt-proper-train-dataset                     DAIGT Proper Train Dataset                  119MB  2023-11-05 14:03:25           1517        137  1.0              \n",
      "m000sey/save-the-honey-bees                             🍯 Save the bees 🐝                            34KB  2023-12-06 18:05:21            792         31  1.0              \n",
      "carlmcbrideellis/llm-7-prompt-training-dataset          LLM: 7 prompt training dataset               41MB  2023-11-15 07:32:56           1539        115  1.0              \n",
      "thedevastator/netflix-imdb-scores                       Netflix IMDB Scores                         699KB  2023-12-03 14:10:34           1572         28  1.0              \n",
      "youssefaboelwafa/hotel-booking-cancellation-prediction  Hotel Booking Cancellation Prediction       470KB  2023-12-03 01:54:35            908         28  1.0              \n",
      "ddosad/auto-sales-data                                  Automobile Sales data                        79KB  2023-11-18 12:36:41           4349         76  1.0              \n",
      "nelgiriyewithana/world-educational-data                 World Educational Data                        9KB  2023-11-04 06:10:17           8349        168  1.0              \n",
      "alessiasimone/lego-sets-and-price-1955-2023             Lego sets and price [1955 - 2023]            30MB  2023-11-17 17:48:15           1020         25  1.0              \n",
      "julnazz/diabetes-health-indicators-dataset              Diabetes Health Indicators Dataset            5MB  2023-11-27 07:10:53           1148         31  1.0              \n",
      "jacksondivakarr/laptop-price-prediction-dataset         Laptop Price Prediction Dataset             119KB  2023-11-30 16:23:34           1022         33  1.0              \n",
      "thedevastator/bank-term-deposit-predictions             Bank Term Deposit Predictions               541KB  2023-11-30 14:37:39           1054         35  1.0              \n",
      "jacksondivakarr/online-shopping-dataset                 🛒 Online Shopping Dataset 📊📉📈                 5MB  2023-11-12 12:35:58           4471         80  1.0              \n",
      "jacksondivakarr/student-classification-dataset          Student Classification Dataset               15KB  2023-12-02 16:23:43            883         24  1.0              \n",
      "syedanwarafridi/earthquake-events-worldwide-2023        Earthquake Events Worldwide 2023            789KB  2023-11-23 08:58:49            731         22  1.0              \n",
      "nelgiriyewithana/australian-vehicle-prices              Australian Vehicle Prices                   582KB  2023-11-27 04:51:30           1335         45  1.0              \n"
     ]
    }
   ],
   "source": [
    "! kaggle datasets list"
   ]
  },
  {
   "cell_type": "code",
   "execution_count": 8,
   "id": "aa514d5c-2e03-4608-8c6c-9b1ef1ef1789",
   "metadata": {
    "tags": []
   },
   "outputs": [
    {
     "name": "stdout",
     "output_type": "stream",
     "text": [
      "Downloading deep-voice-deepfake-voice-recognition.zip to /home/jupyter/Deep_fake_voice_recognition\n",
      "100%|██████████████████████████████████████▊| 3.67G/3.69G [00:28<00:00, 187MB/s]\n",
      "100%|███████████████████████████████████████| 3.69G/3.69G [00:28<00:00, 137MB/s]\n"
     ]
    }
   ],
   "source": [
    "! kaggle datasets download -d birdy654/deep-voice-deepfake-voice-recognition"
   ]
  },
  {
   "cell_type": "code",
   "execution_count": null,
   "id": "6fa9a2c8-141b-4db0-83f0-99eea70b467b",
   "metadata": {},
   "outputs": [],
   "source": [
    "! unzip deep-voice-deepfake-voice-recognition.zip"
   ]
  }
 ],
 "metadata": {
  "environment": {
   "kernel": "python3",
   "name": "tf2-cpu.2-11.m113",
   "type": "gcloud",
   "uri": "gcr.io/deeplearning-platform-release/tf2-cpu.2-11:m113"
  },
  "kernelspec": {
   "display_name": "Python 3",
   "language": "python",
   "name": "python3"
  },
  "language_info": {
   "codemirror_mode": {
    "name": "ipython",
    "version": 3
   },
   "file_extension": ".py",
   "mimetype": "text/x-python",
   "name": "python",
   "nbconvert_exporter": "python",
   "pygments_lexer": "ipython3",
   "version": "3.10.13"
  }
 },
 "nbformat": 4,
 "nbformat_minor": 5
}
