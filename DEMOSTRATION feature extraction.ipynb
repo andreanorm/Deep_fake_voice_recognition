{
 "cells": [
  {
   "cell_type": "code",
   "execution_count": 11,
   "id": "df275a48-10d9-4a5f-956e-dd4953a87269",
   "metadata": {},
   "outputs": [],
   "source": [
    "import librosa\n",
    "import os\n",
    "import matplotlib.pyplot as plt\n",
    "import librosa.display\n",
    "import numpy as np\n",
    "from tqdm.notebook import tqdm\n",
    "import pandas as pd"
   ]
  },
  {
   "cell_type": "code",
   "execution_count": 9,
   "id": "5b8c7270-03be-4989-8d90-f9e2c938f37f",
   "metadata": {},
   "outputs": [],
   "source": [
    "# Get the current working directory\n",
    "current_directory = os.getcwd()\n",
    "audio_file_path = os.path.join(current_directory, 'Nicole-Documents', 'DEMONSTRATION', 'DEMONSTRATION')"
   ]
  },
  {
   "cell_type": "code",
   "execution_count": 12,
   "id": "58aa0cab-c80a-4bf1-abf6-374d248c9636",
   "metadata": {},
   "outputs": [
    {
     "name": "stdout",
     "output_type": "stream",
     "text": [
      "Processing FAKE files...\n"
     ]
    },
    {
     "data": {
      "application/vnd.jupyter.widget-view+json": {
       "model_id": "5ed09ce739924c09b220fa2831aaa939",
       "version_major": 2,
       "version_minor": 0
      },
      "text/plain": [
       "FAKE Files Progress:   0%|          | 0/1 [00:00<?, ?it/s]"
      ]
     },
     "metadata": {},
     "output_type": "display_data"
    },
    {
     "name": "stdout",
     "output_type": "stream",
     "text": [
      "Processing REAL files...\n"
     ]
    },
    {
     "data": {
      "application/vnd.jupyter.widget-view+json": {
       "model_id": "f654feee8a474cb785d3a0024731db71",
       "version_major": 2,
       "version_minor": 0
      },
      "text/plain": [
       "REAL Files Progress:   0%|          | 0/1 [00:00<?, ?it/s]"
      ]
     },
     "metadata": {},
     "output_type": "display_data"
    }
   ],
   "source": [
    "\n",
    "# Function to extract features from an audio file\n",
    "def extract_features(file_path, segment_length, file_name):\n",
    "    try:\n",
    "        # Load the audio file\n",
    "        y, sr = librosa.load(file_path)\n",
    "        # Calculate the number of segments based on the segment length and audio length\n",
    "        num_segments = int(np.ceil(len(y) / float(segment_length * sr)))\n",
    "\n",
    "        # Initialize a list to store the features for this file\n",
    "        features = []\n",
    "\n",
    "        # Extract features for each segment\n",
    "        for i in range(num_segments):\n",
    "            # Calculate start and end frame for the current segment\n",
    "            start_frame = i * segment_length * sr\n",
    "            end_frame = min(len(y), (i + 1) * segment_length * sr)\n",
    "            \n",
    "            # Extract audio for this segment\n",
    "            y_segment = y[start_frame:end_frame]\n",
    "\n",
    "            # Extract features\n",
    "            chroma_stft = np.mean(librosa.feature.chroma_stft(y=y_segment, sr=sr,n_fft=2048, hop_length=512))\n",
    "            rms = np.mean(librosa.feature.rms(y=y_segment))\n",
    "            spec_cent = np.mean(librosa.feature.spectral_centroid(y=y_segment, sr=sr))\n",
    "            spec_bw = np.mean(librosa.feature.spectral_bandwidth(y=y_segment, sr=sr))\n",
    "            rolloff = np.mean(librosa.feature.spectral_rolloff(y=y_segment, sr=sr))\n",
    "            zcr = np.mean(librosa.feature.zero_crossing_rate(y_segment))\n",
    "            mfccs = librosa.feature.mfcc(y=y_segment, sr=sr)\n",
    "            mfccs_mean = np.mean(mfccs, axis=1)\n",
    "            \n",
    "            # Append the extracted features to the list\n",
    "            features.append([chroma_stft, rms, spec_cent, spec_bw, rolloff, zcr, *mfccs_mean, file_name])\n",
    "\n",
    "        return features\n",
    "    except Exception as e:\n",
    "        print(f\"Error processing {file_path}: {e}\")\n",
    "        return None\n",
    "\n",
    "# Function to create the dataset\n",
    "def create_dataset(audio_dir, segment_length):\n",
    "    labels = ['FAKE','REAL']\n",
    "    feature_list = []\n",
    "\n",
    "    # Iterate over all files in the audio_dir\n",
    "    for label in labels:\n",
    "        print(f'Processing {label} files...')\n",
    "        files = os.listdir(os.path.join(audio_dir, label))\n",
    "        # Wrap the files iterable with tqdm to show the progress bar\n",
    "        for file in tqdm(files, desc=f\"{label} Files Progress\"):\n",
    "            file_path = os.path.join(audio_dir, label, file)\n",
    "            # Extract the file name without the extension\n",
    "            file_name = os.path.splitext(file)[0]\n",
    "            # Extract features for the current file\n",
    "            file_features = extract_features(file_path, segment_length, file_name)\n",
    "            if file_features:\n",
    "                # Append features of all segments along with the label to the dataset\n",
    "                for segment_features in file_features:\n",
    "                    feature_list.append(segment_features + [label])\n",
    "                    \n",
    "    # Create a DataFrame with the dataset\n",
    "    df = pd.DataFrame(feature_list, columns=['chroma_stft', 'rms', 'spectral_centroid', 'spectral_bandwidth', 'rolloff', 'zero_crossing_rate', 'mfcc1', 'mfcc2', 'mfcc3', 'mfcc4', 'mfcc5', 'mfcc6', 'mfcc7', 'mfcc8', 'mfcc9', 'mfcc10', 'mfcc11', 'mfcc12', 'mfcc13', 'mfcc14', 'mfcc15', 'mfcc16', 'mfcc17', 'mfcc18', 'mfcc19', 'mfcc20', 'origin_sample', 'LABEL'])\n",
    "    \n",
    "    return df\n",
    "\n",
    "# Directory where the 'FAKE' and 'REAL' folders are located\n",
    "audio_dir = audio_file_path\n",
    "\n",
    "# Length of the audio segments in seconds\n",
    "segment_length = 1  # for example, 5 seconds\n",
    "\n",
    "# Create the dataset\n",
    "dataset = create_dataset(audio_dir, segment_length)\n"
   ]
  },
  {
   "cell_type": "code",
   "execution_count": 13,
   "id": "a64972c3-e196-47cc-a468-efd77396ea11",
   "metadata": {},
   "outputs": [
    {
     "name": "stdout",
     "output_type": "stream",
     "text": [
      "Dataset created and saved to audio_features_demo.csv\n"
     ]
    }
   ],
   "source": [
    "#save the file\n",
    "\n",
    "csv_output_path = 'audio_features_demo.csv'\n",
    "dataset.to_csv(csv_output_path, index=False)\n",
    "\n",
    "print(f'Dataset created and saved to {csv_output_path}')"
   ]
  },
  {
   "cell_type": "code",
   "execution_count": null,
   "id": "17fa3f49-d6cc-4126-9132-86a8f8f19528",
   "metadata": {},
   "outputs": [],
   "source": []
  }
 ],
 "metadata": {
  "kernelspec": {
   "display_name": "Python 3 (ipykernel)",
   "language": "python",
   "name": "python3"
  },
  "language_info": {
   "codemirror_mode": {
    "name": "ipython",
    "version": 3
   },
   "file_extension": ".py",
   "mimetype": "text/x-python",
   "name": "python",
   "nbconvert_exporter": "python",
   "pygments_lexer": "ipython3",
   "version": "3.10.6"
  }
 },
 "nbformat": 4,
 "nbformat_minor": 5
}
