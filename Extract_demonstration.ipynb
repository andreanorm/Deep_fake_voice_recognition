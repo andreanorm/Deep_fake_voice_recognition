{
 "cells": [
  {
   "cell_type": "code",
   "execution_count": 1,
   "id": "d92c89b8-057d-4fe8-a3bf-4569ce38d7d3",
   "metadata": {},
   "outputs": [],
   "source": [
    "import librosa\n",
    "import soundfile as sf\n",
    "import matplotlib.pyplot as plt\n",
    "from IPython.display import Audio\n",
    "import pandas as pd\n",
    "import numpy as np \n",
    "import os\n",
    "import soundfile as sf\n",
    "from xgboost import XGBClassifier\n",
    "from sklearn.model_selection import train_test_split, cross_val_score, GridSearchCV, RandomizedSearchCV\n",
    "from sklearn.preprocessing import LabelEncoder\n",
    "from sklearn.metrics import accuracy_score, f1_score, recall_score, precision_score, auc"
   ]
  },
  {
   "cell_type": "code",
   "execution_count": 2,
   "id": "fb722419-bfe9-4fd2-8f89-f422cb3cba04",
   "metadata": {},
   "outputs": [],
   "source": [
    "def cut_audio_file(audio_dir_test,file,start,lenght):\n",
    "# to get the audio segment and save it as segment_lenght_filename.mp3\n",
    "#file = filename.mp3\n",
    "# start = seconds\n",
    "# lenght = seconds\n",
    "    filename=os.path.join(audio_dir_test,file)\n",
    "    y, sr = librosa.load(filename, sr=None)\n",
    "    # Define start and end times\n",
    "    end_sec = start + lenght  # 4 seconds after the start\n",
    "    # Convert times to samples\n",
    "    start_sample = int(start * sr)\n",
    "    end_sample = int(end_sec * sr)\n",
    "    # Extract the segment\n",
    "    segment = y[start_sample:end_sample]\n",
    "    # Save the segment\n",
    "    out_filename = f'extracted_segment_{lenght}_{file}'\n",
    "    sf.write(os.path.join(audio_dir_test,out_filename), segment, sr)\n",
    "    "
   ]
  },
  {
   "cell_type": "code",
   "execution_count": 3,
   "id": "9d921806-a251-4401-a02e-eafa4b1ac743",
   "metadata": {},
   "outputs": [],
   "source": [
    "#get all features out of giver file \n",
    "def get_features(file_path, file_name):\n",
    "    y, sr = librosa.load(file_path)\n",
    "    iter_ = int(y.shape[0]/sr)\n",
    "    features = []\n",
    "    for i in range(iter_):\n",
    "        y_seg = y[i*sr:(sr*i+sr)]\n",
    "        chroma_stft = np.mean(librosa.feature.chroma_stft(y=y_seg, sr=sr))\n",
    "        rms = np.mean(librosa.feature.rms(y=y_seg))\n",
    "        spec_cent = np.mean(librosa.feature.spectral_centroid(y=y_seg, sr=sr))\n",
    "        spec_bw = np.mean(librosa.feature.spectral_bandwidth(y=y_seg, sr=sr))\n",
    "        rolloff = np.mean(librosa.feature.spectral_rolloff(y=y_seg, sr=sr))\n",
    "        zcr = np.mean(librosa.feature.zero_crossing_rate(y_seg))\n",
    "        mfcc = np.mean(librosa.feature.mfcc(y=y_seg, sr=sr, n_mfcc=20),axis=1)\n",
    "        features.append([chroma_stft,rms,spec_cent,spec_bw,rolloff,zcr,*mfcc]) # starred expressions for mfcc to get 20 columns instead of 20 row\n",
    "        # b = np.concatenate((b,a),axis=1) # ajout filename apres?\n",
    "    return features\n",
    "    "
   ]
  },
  {
   "cell_type": "code",
   "execution_count": 4,
   "id": "7eb9e568-60a2-4329-9767-3250d80f4c54",
   "metadata": {},
   "outputs": [],
   "source": [
    "data_set = pd.read_csv('Data/DATASET-balanced.csv')\n"
   ]
  },
  {
   "cell_type": "code",
   "execution_count": null,
   "id": "53aee805-0a9c-4094-99b1-7175d222cf7f",
   "metadata": {},
   "outputs": [],
   "source": []
  },
  {
   "cell_type": "code",
   "execution_count": 12,
   "id": "2fafbe72-5e99-41fa-b05d-249633a811b0",
   "metadata": {},
   "outputs": [],
   "source": [
    "def make_test_features_df(audio_dir,filename):\n",
    "    file_features=get_features(os.path.join(audio_dir,filename),filename)\n",
    "    feature_list = []\n",
    "    for segment_features in file_features:\n",
    "            feature_list.append(segment_features)\n",
    "\n",
    "    features_df = pd.DataFrame(feature_list,columns = data_set.columns[0:-1])\n",
    "    return features_df\n"
   ]
  },
  {
   "cell_type": "code",
   "execution_count": 6,
   "id": "68301156-3c92-4059-86d2-b80d251e55d9",
   "metadata": {},
   "outputs": [
    {
     "data": {
      "text/plain": [
       "['Youssef.wav',\n",
       " 'Youssef_Eric Cartman.mp3',\n",
       " '.DS_Store',\n",
       " 'Youssef_2_Female.mp3',\n",
       " 'extracted_segment_Taylor Swift Talks Record-Breaking Midnights Album, Music Video Cameos and Easter Eggs.mp3',\n",
       " 'Elise.m4a',\n",
       " 'extracted_segment_100_Taylor Swift Talks Record-Breaking Midnights Album, Music Video Cameos and Easter Eggs.mp3',\n",
       " 'extracted_segment_10_Taylor Swift Talks Record-Breaking Midnights Album, Music Video Cameos and Easter Eggs.mp3',\n",
       " 'Taylor Swift Talks Record.mp3',\n",
       " 'Youssef_2.wav',\n",
       " 'linus-to-musk-DEMO.mp3',\n",
       " 'Morgan Freeman.mp3',\n",
       " 'Youssef_2_Male Reggaeton.mp3',\n",
       " 'linus-original-DEMO.mp3']"
      ]
     },
     "execution_count": 6,
     "metadata": {},
     "output_type": "execute_result"
    }
   ],
   "source": [
    "# Start here:\n",
    "# make sure it the right path\n",
    "audio_dir_test='data/DEMONSTRATION/DEMONSTRATION'\n",
    "files = os.listdir(audio_dir_test)\n",
    "files\n"
   ]
  },
  {
   "cell_type": "code",
   "execution_count": 7,
   "id": "521a812b-2280-4557-8d9d-9e85d3822a43",
   "metadata": {},
   "outputs": [
    {
     "data": {
      "text/plain": [
       "'extracted_segment_Taylor Swift Talks Record-Breaking Midnights Album, Music Video Cameos and Easter Eggs.mp3'"
      ]
     },
     "execution_count": 7,
     "metadata": {},
     "output_type": "execute_result"
    }
   ],
   "source": [
    "#select the file to cut using files[]\n",
    "file_to_cut = files[4]\n",
    "file_to_cut"
   ]
  },
  {
   "cell_type": "code",
   "execution_count": 8,
   "id": "74ecc330-710d-4a5b-b59f-9946087e9b94",
   "metadata": {},
   "outputs": [],
   "source": [
    "# cut the audio, start in second, and the lenght in seconds\n",
    "cut_audio_file(audio_dir_test,file_to_cut,89,10)\n"
   ]
  },
  {
   "cell_type": "code",
   "execution_count": 9,
   "id": "0a59394a-0a5e-4d1a-8af4-b152ab6f3999",
   "metadata": {},
   "outputs": [
    {
     "data": {
      "text/plain": [
       "['extracted_segment_10_extracted_segment_Taylor Swift Talks Record-Breaking Midnights Album, Music Video Cameos and Easter Eggs.mp3',\n",
       " 'Youssef.wav',\n",
       " 'Youssef_Eric Cartman.mp3',\n",
       " '.DS_Store',\n",
       " 'Youssef_2_Female.mp3',\n",
       " 'extracted_segment_Taylor Swift Talks Record-Breaking Midnights Album, Music Video Cameos and Easter Eggs.mp3',\n",
       " 'Elise.m4a',\n",
       " 'extracted_segment_100_Taylor Swift Talks Record-Breaking Midnights Album, Music Video Cameos and Easter Eggs.mp3',\n",
       " 'extracted_segment_10_Taylor Swift Talks Record-Breaking Midnights Album, Music Video Cameos and Easter Eggs.mp3',\n",
       " 'Taylor Swift Talks Record.mp3',\n",
       " 'Youssef_2.wav',\n",
       " 'linus-to-musk-DEMO.mp3',\n",
       " 'Morgan Freeman.mp3',\n",
       " 'Youssef_2_Male Reggaeton.mp3',\n",
       " 'linus-original-DEMO.mp3']"
      ]
     },
     "execution_count": 9,
     "metadata": {},
     "output_type": "execute_result"
    }
   ],
   "source": [
    "files = os.listdir(audio_dir_test)\n",
    "files"
   ]
  },
  {
   "cell_type": "code",
   "execution_count": 28,
   "id": "e718ede4-600b-42b5-9329-a01d9c901080",
   "metadata": {},
   "outputs": [
    {
     "data": {
      "text/plain": [
       "'Youssef_2_Female.mp3'"
      ]
     },
     "execution_count": 28,
     "metadata": {},
     "output_type": "execute_result"
    }
   ],
   "source": [
    "# select file to extract\n",
    "file_toextract = files[4]\n",
    "file_toextract"
   ]
  },
  {
   "cell_type": "code",
   "execution_count": 25,
   "id": "fa77866b-fb47-4113-aae1-6c72cca36c28",
   "metadata": {},
   "outputs": [
    {
     "name": "stderr",
     "output_type": "stream",
     "text": [
      "/Users/youssefelmaaoua/.pyenv/versions/3.10.6/envs/Deep_fake_voice_recognition/lib/python3.10/site-packages/librosa/core/pitch.py:101: UserWarning: Trying to estimate tuning from empty frequency set.\n",
      "  return pitch_tuning(\n"
     ]
    }
   ],
   "source": [
    "new_df = make_test_features_df(audio_dir_test,file_toextract)"
   ]
  },
  {
   "cell_type": "code",
   "execution_count": 26,
   "id": "020fa771-40fc-494a-b98b-f8754fccabb2",
   "metadata": {},
   "outputs": [
    {
     "data": {
      "text/html": [
       "<div>\n",
       "<style scoped>\n",
       "    .dataframe tbody tr th:only-of-type {\n",
       "        vertical-align: middle;\n",
       "    }\n",
       "\n",
       "    .dataframe tbody tr th {\n",
       "        vertical-align: top;\n",
       "    }\n",
       "\n",
       "    .dataframe thead th {\n",
       "        text-align: right;\n",
       "    }\n",
       "</style>\n",
       "<table border=\"1\" class=\"dataframe\">\n",
       "  <thead>\n",
       "    <tr style=\"text-align: right;\">\n",
       "      <th></th>\n",
       "      <th>chroma_stft</th>\n",
       "      <th>rms</th>\n",
       "      <th>spectral_centroid</th>\n",
       "      <th>spectral_bandwidth</th>\n",
       "      <th>rolloff</th>\n",
       "      <th>zero_crossing_rate</th>\n",
       "      <th>mfcc1</th>\n",
       "      <th>mfcc2</th>\n",
       "      <th>mfcc3</th>\n",
       "      <th>mfcc4</th>\n",
       "      <th>...</th>\n",
       "      <th>mfcc11</th>\n",
       "      <th>mfcc12</th>\n",
       "      <th>mfcc13</th>\n",
       "      <th>mfcc14</th>\n",
       "      <th>mfcc15</th>\n",
       "      <th>mfcc16</th>\n",
       "      <th>mfcc17</th>\n",
       "      <th>mfcc18</th>\n",
       "      <th>mfcc19</th>\n",
       "      <th>mfcc20</th>\n",
       "    </tr>\n",
       "  </thead>\n",
       "  <tbody>\n",
       "    <tr>\n",
       "      <th>0</th>\n",
       "      <td>0.579425</td>\n",
       "      <td>0.009091</td>\n",
       "      <td>3272.031691</td>\n",
       "      <td>2748.658893</td>\n",
       "      <td>6460.939719</td>\n",
       "      <td>0.109297</td>\n",
       "      <td>-584.452087</td>\n",
       "      <td>40.298458</td>\n",
       "      <td>-22.754082</td>\n",
       "      <td>-1.489093</td>\n",
       "      <td>...</td>\n",
       "      <td>-1.366650</td>\n",
       "      <td>-4.047152</td>\n",
       "      <td>-7.080334</td>\n",
       "      <td>-1.750380</td>\n",
       "      <td>1.068146</td>\n",
       "      <td>-7.576068</td>\n",
       "      <td>-1.051204</td>\n",
       "      <td>0.668266</td>\n",
       "      <td>-2.085448</td>\n",
       "      <td>-2.743236</td>\n",
       "    </tr>\n",
       "    <tr>\n",
       "      <th>1</th>\n",
       "      <td>0.483896</td>\n",
       "      <td>0.054477</td>\n",
       "      <td>3361.817266</td>\n",
       "      <td>2880.979088</td>\n",
       "      <td>6781.490811</td>\n",
       "      <td>0.080167</td>\n",
       "      <td>-359.543243</td>\n",
       "      <td>40.143150</td>\n",
       "      <td>-15.552848</td>\n",
       "      <td>-1.718714</td>\n",
       "      <td>...</td>\n",
       "      <td>-7.730168</td>\n",
       "      <td>-3.043950</td>\n",
       "      <td>-8.780021</td>\n",
       "      <td>2.206362</td>\n",
       "      <td>-6.292978</td>\n",
       "      <td>-10.289605</td>\n",
       "      <td>-1.452826</td>\n",
       "      <td>-2.502946</td>\n",
       "      <td>-9.700011</td>\n",
       "      <td>2.217101</td>\n",
       "    </tr>\n",
       "    <tr>\n",
       "      <th>2</th>\n",
       "      <td>0.473311</td>\n",
       "      <td>0.049601</td>\n",
       "      <td>3885.734309</td>\n",
       "      <td>2504.323935</td>\n",
       "      <td>6411.266535</td>\n",
       "      <td>0.266080</td>\n",
       "      <td>-222.903549</td>\n",
       "      <td>19.115871</td>\n",
       "      <td>-6.625169</td>\n",
       "      <td>41.368000</td>\n",
       "      <td>...</td>\n",
       "      <td>-11.320024</td>\n",
       "      <td>-6.886254</td>\n",
       "      <td>-10.958886</td>\n",
       "      <td>-2.802951</td>\n",
       "      <td>-3.047965</td>\n",
       "      <td>-12.652057</td>\n",
       "      <td>-2.414281</td>\n",
       "      <td>-5.561193</td>\n",
       "      <td>-12.614676</td>\n",
       "      <td>3.238885</td>\n",
       "    </tr>\n",
       "    <tr>\n",
       "      <th>3</th>\n",
       "      <td>0.805879</td>\n",
       "      <td>0.000031</td>\n",
       "      <td>4598.784587</td>\n",
       "      <td>3450.277271</td>\n",
       "      <td>8802.920255</td>\n",
       "      <td>0.012962</td>\n",
       "      <td>-908.758728</td>\n",
       "      <td>8.912713</td>\n",
       "      <td>8.545962</td>\n",
       "      <td>1.591202</td>\n",
       "      <td>...</td>\n",
       "      <td>1.404977</td>\n",
       "      <td>5.956839</td>\n",
       "      <td>2.954048</td>\n",
       "      <td>6.175857</td>\n",
       "      <td>0.924086</td>\n",
       "      <td>4.277379</td>\n",
       "      <td>2.753268</td>\n",
       "      <td>5.432143</td>\n",
       "      <td>2.812247</td>\n",
       "      <td>7.724409</td>\n",
       "    </tr>\n",
       "  </tbody>\n",
       "</table>\n",
       "<p>4 rows × 26 columns</p>\n",
       "</div>"
      ],
      "text/plain": [
       "   chroma_stft       rms  spectral_centroid  spectral_bandwidth      rolloff  \\\n",
       "0     0.579425  0.009091        3272.031691         2748.658893  6460.939719   \n",
       "1     0.483896  0.054477        3361.817266         2880.979088  6781.490811   \n",
       "2     0.473311  0.049601        3885.734309         2504.323935  6411.266535   \n",
       "3     0.805879  0.000031        4598.784587         3450.277271  8802.920255   \n",
       "\n",
       "   zero_crossing_rate       mfcc1      mfcc2      mfcc3      mfcc4  ...  \\\n",
       "0            0.109297 -584.452087  40.298458 -22.754082  -1.489093  ...   \n",
       "1            0.080167 -359.543243  40.143150 -15.552848  -1.718714  ...   \n",
       "2            0.266080 -222.903549  19.115871  -6.625169  41.368000  ...   \n",
       "3            0.012962 -908.758728   8.912713   8.545962   1.591202  ...   \n",
       "\n",
       "      mfcc11    mfcc12     mfcc13    mfcc14    mfcc15     mfcc16    mfcc17  \\\n",
       "0  -1.366650 -4.047152  -7.080334 -1.750380  1.068146  -7.576068 -1.051204   \n",
       "1  -7.730168 -3.043950  -8.780021  2.206362 -6.292978 -10.289605 -1.452826   \n",
       "2 -11.320024 -6.886254 -10.958886 -2.802951 -3.047965 -12.652057 -2.414281   \n",
       "3   1.404977  5.956839   2.954048  6.175857  0.924086   4.277379  2.753268   \n",
       "\n",
       "     mfcc18     mfcc19    mfcc20  \n",
       "0  0.668266  -2.085448 -2.743236  \n",
       "1 -2.502946  -9.700011  2.217101  \n",
       "2 -5.561193 -12.614676  3.238885  \n",
       "3  5.432143   2.812247  7.724409  \n",
       "\n",
       "[4 rows x 26 columns]"
      ]
     },
     "execution_count": 26,
     "metadata": {},
     "output_type": "execute_result"
    }
   ],
   "source": [
    "new_df"
   ]
  },
  {
   "cell_type": "code",
   "execution_count": 16,
   "id": "b8bdc3f1-3a5f-4664-8082-cd7de2dcde5c",
   "metadata": {},
   "outputs": [
    {
     "data": {
      "text/plain": [
       "'Morgan Freeman'"
      ]
     },
     "execution_count": 16,
     "metadata": {},
     "output_type": "execute_result"
    }
   ],
   "source": [
    "file_toextract[:-4]"
   ]
  },
  {
   "cell_type": "code",
   "execution_count": 27,
   "id": "727a4af1-039d-4ba9-b1fb-3c9cc7d30f13",
   "metadata": {},
   "outputs": [],
   "source": [
    "new_df.to_csv(f'data/{file_toextract[:-4]}.csv',index=False)"
   ]
  }
 ],
 "metadata": {
  "kernelspec": {
   "display_name": "Python 3 (ipykernel)",
   "language": "python",
   "name": "python3"
  },
  "language_info": {
   "codemirror_mode": {
    "name": "ipython",
    "version": 3
   },
   "file_extension": ".py",
   "mimetype": "text/x-python",
   "name": "python",
   "nbconvert_exporter": "python",
   "pygments_lexer": "ipython3",
   "version": "3.10.6"
  }
 },
 "nbformat": 4,
 "nbformat_minor": 5
}
